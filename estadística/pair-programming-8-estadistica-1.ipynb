{
 "cells": [
  {
   "cell_type": "code",
   "execution_count": 13,
   "metadata": {},
   "outputs": [],
   "source": [
    "import pandas as pd\n",
    "import numpy as np\n",
    "from scipy import stats"
   ]
  },
  {
   "cell_type": "markdown",
   "metadata": {},
   "source": [
    "Empezamos una nueva lección, y este es el momento de poner en práctica los conocimientos adquiridos del Estadística Descriptiva básica. En este caso vamos a darle un giro de tuerca a la forma en la que se ha resuelto los ejercicios de la Pair de hasta ahora! Para ello os vamos a pedir que por vuestra cuenta busqueis un dataset que os guste, por ejemplo de Kaggle o de donde queráis extraerlo. De esta forma vamos a estudiar los diferentes estadísiticos que contiene en dataset seleccionado Para todas los ejercicios de pair programming de Estadística I, II y III usaremos el dataframe que se tome para el desarrollo de este ejercicio de pair programming."
   ]
  },
  {
   "cell_type": "markdown",
   "metadata": {},
   "source": [
    "EJERCICIO 1: Buscar un conjunto de datos a analizar: \n",
    "Se recomienda que el conjunto de datos a analizar tenga variables numéricas y categóricas. Ya que también se analizarán."
   ]
  },
  {
   "cell_type": "code",
   "execution_count": 14,
   "metadata": {},
   "outputs": [
    {
     "data": {
      "text/html": [
       "<div>\n",
       "<style scoped>\n",
       "    .dataframe tbody tr th:only-of-type {\n",
       "        vertical-align: middle;\n",
       "    }\n",
       "\n",
       "    .dataframe tbody tr th {\n",
       "        vertical-align: top;\n",
       "    }\n",
       "\n",
       "    .dataframe thead th {\n",
       "        text-align: right;\n",
       "    }\n",
       "</style>\n",
       "<table border=\"1\" class=\"dataframe\">\n",
       "  <thead>\n",
       "    <tr style=\"text-align: right;\">\n",
       "      <th></th>\n",
       "      <th>age</th>\n",
       "      <th>sex</th>\n",
       "      <th>bmi</th>\n",
       "      <th>children</th>\n",
       "      <th>smoker</th>\n",
       "      <th>region</th>\n",
       "      <th>charges</th>\n",
       "    </tr>\n",
       "  </thead>\n",
       "  <tbody>\n",
       "    <tr>\n",
       "      <th>0</th>\n",
       "      <td>19</td>\n",
       "      <td>female</td>\n",
       "      <td>27.900</td>\n",
       "      <td>0</td>\n",
       "      <td>yes</td>\n",
       "      <td>southwest</td>\n",
       "      <td>16884.92400</td>\n",
       "    </tr>\n",
       "    <tr>\n",
       "      <th>1</th>\n",
       "      <td>18</td>\n",
       "      <td>male</td>\n",
       "      <td>33.770</td>\n",
       "      <td>1</td>\n",
       "      <td>no</td>\n",
       "      <td>southeast</td>\n",
       "      <td>1725.55230</td>\n",
       "    </tr>\n",
       "    <tr>\n",
       "      <th>2</th>\n",
       "      <td>28</td>\n",
       "      <td>male</td>\n",
       "      <td>33.000</td>\n",
       "      <td>3</td>\n",
       "      <td>no</td>\n",
       "      <td>southeast</td>\n",
       "      <td>4449.46200</td>\n",
       "    </tr>\n",
       "    <tr>\n",
       "      <th>3</th>\n",
       "      <td>33</td>\n",
       "      <td>male</td>\n",
       "      <td>22.705</td>\n",
       "      <td>0</td>\n",
       "      <td>no</td>\n",
       "      <td>northwest</td>\n",
       "      <td>21984.47061</td>\n",
       "    </tr>\n",
       "    <tr>\n",
       "      <th>4</th>\n",
       "      <td>32</td>\n",
       "      <td>male</td>\n",
       "      <td>28.880</td>\n",
       "      <td>0</td>\n",
       "      <td>no</td>\n",
       "      <td>northwest</td>\n",
       "      <td>3866.85520</td>\n",
       "    </tr>\n",
       "  </tbody>\n",
       "</table>\n",
       "</div>"
      ],
      "text/plain": [
       "   age     sex     bmi  children smoker     region      charges\n",
       "0   19  female  27.900         0    yes  southwest  16884.92400\n",
       "1   18    male  33.770         1     no  southeast   1725.55230\n",
       "2   28    male  33.000         3     no  southeast   4449.46200\n",
       "3   33    male  22.705         0     no  northwest  21984.47061\n",
       "4   32    male  28.880         0     no  northwest   3866.85520"
      ]
     },
     "execution_count": 14,
     "metadata": {},
     "output_type": "execute_result"
    }
   ],
   "source": [
    "df = pd.read_csv('insurance.csv')\n",
    "df.head()"
   ]
  },
  {
   "cell_type": "code",
   "execution_count": 15,
   "metadata": {},
   "outputs": [
    {
     "data": {
      "text/plain": [
       "(1338, 7)"
      ]
     },
     "execution_count": 15,
     "metadata": {},
     "output_type": "execute_result"
    }
   ],
   "source": [
    "df.shape\n"
   ]
  },
  {
   "cell_type": "code",
   "execution_count": 16,
   "metadata": {},
   "outputs": [
    {
     "name": "stdout",
     "output_type": "stream",
     "text": [
      "<class 'pandas.core.frame.DataFrame'>\n",
      "RangeIndex: 1338 entries, 0 to 1337\n",
      "Data columns (total 7 columns):\n",
      " #   Column    Non-Null Count  Dtype  \n",
      "---  ------    --------------  -----  \n",
      " 0   age       1338 non-null   int64  \n",
      " 1   sex       1338 non-null   object \n",
      " 2   bmi       1338 non-null   float64\n",
      " 3   children  1338 non-null   int64  \n",
      " 4   smoker    1338 non-null   object \n",
      " 5   region    1338 non-null   object \n",
      " 6   charges   1338 non-null   float64\n",
      "dtypes: float64(2), int64(2), object(3)\n",
      "memory usage: 73.3+ KB\n"
     ]
    }
   ],
   "source": [
    "df.info()"
   ]
  },
  {
   "cell_type": "markdown",
   "metadata": {},
   "source": [
    "EJERCICIO 2: Extraer los siguentes estadísiticos del conjunto de datos para varias de las variables disponibles:\n",
    "- Media\n",
    "- Desviación con respecto de la media\n",
    "- Varianza\n",
    "- Desviación típica\n",
    "- Moda\n",
    "- Mediana\n",
    "- Media ponderada\n",
    "- Robustez\n",
    "- Coeficiente de variación"
   ]
  },
  {
   "cell_type": "code",
   "execution_count": 17,
   "metadata": {},
   "outputs": [
    {
     "data": {
      "text/html": [
       "<div>\n",
       "<style scoped>\n",
       "    .dataframe tbody tr th:only-of-type {\n",
       "        vertical-align: middle;\n",
       "    }\n",
       "\n",
       "    .dataframe tbody tr th {\n",
       "        vertical-align: top;\n",
       "    }\n",
       "\n",
       "    .dataframe thead th {\n",
       "        text-align: right;\n",
       "    }\n",
       "</style>\n",
       "<table border=\"1\" class=\"dataframe\">\n",
       "  <thead>\n",
       "    <tr style=\"text-align: right;\">\n",
       "      <th></th>\n",
       "      <th>age</th>\n",
       "      <th>bmi</th>\n",
       "      <th>children</th>\n",
       "      <th>charges</th>\n",
       "    </tr>\n",
       "  </thead>\n",
       "  <tbody>\n",
       "    <tr>\n",
       "      <th>count</th>\n",
       "      <td>1338.000000</td>\n",
       "      <td>1338.000000</td>\n",
       "      <td>1338.000000</td>\n",
       "      <td>1338.000000</td>\n",
       "    </tr>\n",
       "    <tr>\n",
       "      <th>mean</th>\n",
       "      <td>39.207025</td>\n",
       "      <td>30.663397</td>\n",
       "      <td>1.094918</td>\n",
       "      <td>13270.422265</td>\n",
       "    </tr>\n",
       "    <tr>\n",
       "      <th>std</th>\n",
       "      <td>14.049960</td>\n",
       "      <td>6.098187</td>\n",
       "      <td>1.205493</td>\n",
       "      <td>12110.011237</td>\n",
       "    </tr>\n",
       "    <tr>\n",
       "      <th>min</th>\n",
       "      <td>18.000000</td>\n",
       "      <td>15.960000</td>\n",
       "      <td>0.000000</td>\n",
       "      <td>1121.873900</td>\n",
       "    </tr>\n",
       "    <tr>\n",
       "      <th>25%</th>\n",
       "      <td>27.000000</td>\n",
       "      <td>26.296250</td>\n",
       "      <td>0.000000</td>\n",
       "      <td>4740.287150</td>\n",
       "    </tr>\n",
       "    <tr>\n",
       "      <th>50%</th>\n",
       "      <td>39.000000</td>\n",
       "      <td>30.400000</td>\n",
       "      <td>1.000000</td>\n",
       "      <td>9382.033000</td>\n",
       "    </tr>\n",
       "    <tr>\n",
       "      <th>75%</th>\n",
       "      <td>51.000000</td>\n",
       "      <td>34.693750</td>\n",
       "      <td>2.000000</td>\n",
       "      <td>16639.912515</td>\n",
       "    </tr>\n",
       "    <tr>\n",
       "      <th>max</th>\n",
       "      <td>64.000000</td>\n",
       "      <td>53.130000</td>\n",
       "      <td>5.000000</td>\n",
       "      <td>63770.428010</td>\n",
       "    </tr>\n",
       "  </tbody>\n",
       "</table>\n",
       "</div>"
      ],
      "text/plain": [
       "               age          bmi     children       charges\n",
       "count  1338.000000  1338.000000  1338.000000   1338.000000\n",
       "mean     39.207025    30.663397     1.094918  13270.422265\n",
       "std      14.049960     6.098187     1.205493  12110.011237\n",
       "min      18.000000    15.960000     0.000000   1121.873900\n",
       "25%      27.000000    26.296250     0.000000   4740.287150\n",
       "50%      39.000000    30.400000     1.000000   9382.033000\n",
       "75%      51.000000    34.693750     2.000000  16639.912515\n",
       "max      64.000000    53.130000     5.000000  63770.428010"
      ]
     },
     "execution_count": 17,
     "metadata": {},
     "output_type": "execute_result"
    }
   ],
   "source": [
    "df.describe()"
   ]
  },
  {
   "cell_type": "code",
   "execution_count": 18,
   "metadata": {},
   "outputs": [
    {
     "name": "stdout",
     "output_type": "stream",
     "text": [
      "la media de las edades es: 39.21\n",
      "La media de los hijos es: 1.09\n",
      "La media del IMC es: 30.66\n",
      "La media de los costos es: 13270.42\n"
     ]
    }
   ],
   "source": [
    "media_edades = np.round(np.mean(df['age']), decimals=2)\n",
    "print(\"la media de las edades es:\", media_edades)\n",
    "media_hijos = np.round(np.mean(df['children']), decimals=2)\n",
    "print(\"La media de los hijos es:\", media_hijos)\n",
    "media_imc = np.round(np.mean(df['bmi']), decimals=2)\n",
    "print(\"La media del IMC es:\", media_imc)\n",
    "media_costos = np.round(np.mean(df['charges']), decimals=2)\n",
    "print(\"La media de los costos es:\", media_costos)"
   ]
  },
  {
   "cell_type": "code",
   "execution_count": 19,
   "metadata": {},
   "outputs": [
    {
     "name": "stdout",
     "output_type": "stream",
     "text": [
      "la variación de la media de las edades es: 0       20.21\n",
      "1       21.21\n",
      "2       11.21\n",
      "3        6.21\n",
      "4        7.21\n",
      "        ...  \n",
      "1333    10.79\n",
      "1334    21.21\n",
      "1335    21.21\n",
      "1336    18.21\n",
      "1337    21.79\n",
      "Name: age, Length: 1338, dtype: float64\n",
      "La variación de la media de los hijos es: 0       1.09\n",
      "1       0.09\n",
      "2       1.91\n",
      "3       1.09\n",
      "4       1.09\n",
      "        ... \n",
      "1333    1.91\n",
      "1334    1.09\n",
      "1335    1.09\n",
      "1336    1.09\n",
      "1337    1.09\n",
      "Name: children, Length: 1338, dtype: float64\n",
      "La variación de la media del IMC es: 0       2.760\n",
      "1       3.110\n",
      "2       2.340\n",
      "3       7.955\n",
      "4       1.780\n",
      "        ...  \n",
      "1333    0.310\n",
      "1334    1.260\n",
      "1335    6.190\n",
      "1336    4.860\n",
      "1337    1.590\n",
      "Name: bmi, Length: 1338, dtype: float64\n",
      "La variación de la media de los costos es: 0        3614.50400\n",
      "1       11544.86770\n",
      "2        8820.95800\n",
      "3        8714.05061\n",
      "4        9403.56480\n",
      "           ...     \n",
      "1333     2669.87170\n",
      "1334    11064.43920\n",
      "1335    11640.58650\n",
      "1336    11262.47500\n",
      "1337    15870.94030\n",
      "Name: charges, Length: 1338, dtype: float64\n"
     ]
    }
   ],
   "source": [
    "variacion_media_edades = np.abs(df[\"age\"]-media_edades)\n",
    "print(\"la variación de la media de las edades es:\", variacion_media_edades)\n",
    "variacion_media_hijos = np.abs(df['children']-media_hijos)\n",
    "print(\"La variación de la media de los hijos es:\", variacion_media_hijos)\n",
    "variacion_media_imc = np.abs(df['bmi']- media_imc)\n",
    "print(\"La variación de la media del IMC es:\", variacion_media_imc)\n",
    "variacion_media_costos = np.abs(df['charges']- media_costos)\n",
    "print(\"La variación de la media de los costos es:\", variacion_media_costos)"
   ]
  },
  {
   "cell_type": "code",
   "execution_count": 20,
   "metadata": {},
   "outputs": [
    {
     "name": "stdout",
     "output_type": "stream",
     "text": [
      "la varianza de las edades es: 197.25\n",
      "La varianza de los hijos es: 1.45\n",
      "La varianza del IMC es: 37.16\n",
      "La varianza de los costos es: 146542766.49\n"
     ]
    }
   ],
   "source": [
    "varianza_edades = np.round(np.var(df['age']), decimals= 2)\n",
    "print(\"la varianza de las edades es:\", varianza_edades)\n",
    "varianza_hijos = np.round(np.var(df['children']), decimals=2)\n",
    "print(\"La varianza de los hijos es:\", varianza_hijos)\n",
    "varianza_imc = np.round(np.var(df['bmi']), decimals=2)\n",
    "print(\"La varianza del IMC es:\", varianza_imc)\n",
    "varianza_costos = np.round(np.var(df['charges']), decimals=2)\n",
    "print(\"La varianza de los costos es:\", varianza_costos)"
   ]
  },
  {
   "cell_type": "code",
   "execution_count": 21,
   "metadata": {},
   "outputs": [
    {
     "name": "stdout",
     "output_type": "stream",
     "text": [
      "La desviación típica de la edad es: 14.04\n",
      "La desviación típica de los hijos es: 1.21\n",
      "La desviación típica del IMC es: 6.1\n",
      "La desviación típica de los costos es: 12105.48\n"
     ]
    }
   ],
   "source": [
    "desv_tip_edades = np.round(np.std(df[\"age\"]), decimals=2)\n",
    "print(\"La desviación típica de la edad es:\", desv_tip_edades)\n",
    "desv_tip_hijos = np.round(np.std(df[\"children\"]), decimals=2)\n",
    "print(\"La desviación típica de los hijos es:\", desv_tip_hijos)\n",
    "desv_tip_imc = np.round(np.std(df[\"bmi\"]), decimals=2)\n",
    "print(\"La desviación típica del IMC es:\", desv_tip_imc)\n",
    "desv_tip_costos = np.round(np.std(df[\"charges\"]), decimals=2)\n",
    "print(\"La desviación típica de los costos es:\", desv_tip_costos)\n"
   ]
  },
  {
   "cell_type": "code",
   "execution_count": 22,
   "metadata": {},
   "outputs": [
    {
     "data": {
      "text/plain": [
       "Index(['age', 'sex', 'bmi', 'children', 'smoker', 'region', 'charges'], dtype='object')"
      ]
     },
     "execution_count": 22,
     "metadata": {},
     "output_type": "execute_result"
    }
   ],
   "source": [
    "df.columns"
   ]
  },
  {
   "cell_type": "code",
   "execution_count": 23,
   "metadata": {},
   "outputs": [
    {
     "name": "stdout",
     "output_type": "stream",
     "text": [
      "[[18 'male' 32.3 0 'no' 'southeast' 1639.5631]]\n",
      "[[  69  676   13  574 1064  364    2]]\n"
     ]
    }
   ],
   "source": [
    "moda_df, frecuencia_df = stats.mode(df)\n",
    "print(moda_df)\n",
    "print(frecuencia_df)\n"
   ]
  },
  {
   "cell_type": "code",
   "execution_count": 24,
   "metadata": {},
   "outputs": [
    {
     "name": "stdout",
     "output_type": "stream",
     "text": [
      "la moda de la edad es: 18 y su frecuencia: 69\n",
      "la moda del sexo es: male y su frecuencia: 676\n",
      "la moda del IMC es: 32.3 y su frecuencia: 13\n",
      "la moda de los niños es: 0 y su frecuencia: 574\n",
      "la moda de los fumadores es: no y su frecuencia: 1064\n",
      "la moda de la region es: southeast y su frecuencia: 364\n",
      "la moda de los costos es: 1639.5631 y su frecuencia: 2\n"
     ]
    }
   ],
   "source": [
    "print(f\"la moda de la edad es: {moda_df[0][0]} y su frecuencia: {frecuencia_df[0][0]}\")\n",
    "print(f\"la moda del sexo es: {moda_df[0][1]} y su frecuencia: {frecuencia_df[0][1]}\")\n",
    "print(f\"la moda del IMC es: {moda_df[0][2]} y su frecuencia: {frecuencia_df[0][2]}\")\n",
    "print(f\"la moda de los niños es: {moda_df[0][3]} y su frecuencia: {frecuencia_df[0][3]}\")\n",
    "print(f\"la moda de los fumadores es: {moda_df[0][4]} y su frecuencia: {frecuencia_df[0][4]}\")\n",
    "print(f\"la moda de la region es: {moda_df[0][5]} y su frecuencia: {frecuencia_df[0][5]}\")\n",
    "print(f\"la moda de los costos es: {moda_df[0][6]} y su frecuencia: {frecuencia_df[0][6]}\")\n"
   ]
  },
  {
   "cell_type": "code",
   "execution_count": 25,
   "metadata": {},
   "outputs": [
    {
     "name": "stdout",
     "output_type": "stream",
     "text": [
      "La mediana de la columna edad es: 39.0\n",
      "La mediana de la columna bmi es: 30.4\n",
      "La mediana de la columna children es: 1.0\n",
      "La mediana de la columna charges es: 9382.033\n"
     ]
    }
   ],
   "source": [
    "mediana_edad=np.median(df[\"age\"])\n",
    "mediana_bmi=np.median(df[\"bmi\"])\n",
    "mediana_children=np.median(df[\"children\"])\n",
    "mediana_charges=np.median(df[\"charges\"])\n",
    "print(f\"La mediana de la columna edad es: {mediana_edad}\")\n",
    "print(f\"La mediana de la columna bmi es: {mediana_bmi}\")\n",
    "print(f\"La mediana de la columna children es: {mediana_children}\")\n",
    "print(f\"La mediana de la columna charges es: {mediana_charges}\")"
   ]
  },
  {
   "cell_type": "code",
   "execution_count": 26,
   "metadata": {},
   "outputs": [
    {
     "name": "stdout",
     "output_type": "stream",
     "text": [
      "39.20702541106129\n",
      "30.66339686098655\n",
      "1.0949177877429\n",
      "13270.422265141257\n"
     ]
    }
   ],
   "source": [
    "print(np.average(df[\"age\"]))\n",
    "print(np.average(df[\"bmi\"]))\n",
    "print(np.average(df[\"children\"]))\n",
    "print(np.average(df[\"charges\"]))"
   ]
  },
  {
   "cell_type": "code",
   "execution_count": 27,
   "metadata": {},
   "outputs": [],
   "source": [
    "w = np.ones(1338, dtype=np.complex64)\n",
    "avg_edad=np.round(np.average(df[\"age\"], weights=w), decimals=2)\n",
    "avg_bmi=np.round(np.average(df[\"bmi\"], weights=w), decimals=2)\n",
    "avg_children=np.round(np.average(df[\"children\"], weights=w), decimals=2)\n",
    "avg_charges=np.round(np.average(df[\"charges\"], weights=w), decimals=2)"
   ]
  },
  {
   "cell_type": "code",
   "execution_count": 30,
   "metadata": {},
   "outputs": [
    {
     "name": "stdout",
     "output_type": "stream",
     "text": [
      "La media ponderada de la columna edad es: (39.21+0j)\n",
      "La media ponderada de la columna bmi es: (30.66+0j)\n",
      "La media ponderada de la columna children es: (1.09+0j)\n",
      "La media ponderada de la columna charges es: (13270.42+0j)\n",
      "El coeficiente de variación de la edad es: 0.3580719204284621\n",
      "El coeficiente de variación del bmi: 0.1989562948467058\n",
      "EL coeficiente de variación de los hijos es: 1.1100917431192658\n",
      "EL coeficiente de variación de los costes es: 0.9122152878356525\n"
     ]
    }
   ],
   "source": [
    "print(f\"La media ponderada de la columna edad es: {avg_edad}\")\n",
    "print(f\"La media ponderada de la columna bmi es: {avg_bmi}\")\n",
    "print(f\"La media ponderada de la columna children es: {avg_children}\")\n",
    "print(f\"La media ponderada de la columna charges es: {avg_charges}\")\n",
    "\n",
    "print(f'El coeficiente de variación de la edad es: {desv_tip_edades/media_edades}')\n",
    "print(f'El coeficiente de variación del bmi: {desv_tip_imc/media_imc}')\n",
    "print(f'EL coeficiente de variación de los hijos es: {desv_tip_hijos/media_hijos}')\n",
    "print(f'EL coeficiente de variación de los costes es: {desv_tip_costos/media_costos}')"
   ]
  },
  {
   "cell_type": "markdown",
   "metadata": {},
   "source": [
    "EJERCICIO 3: Interpretación de los resultados.\n",
    "Ahora interpreta los resultados obtenidos de los diferentes estadísticos estudiados haciendo hincapié en aspectos interesantes de tus datos y explica lo mejor posible la naturaleza de los mismos."
   ]
  },
  {
   "cell_type": "markdown",
   "metadata": {},
   "source": [
    "Según el análisis descriptivo que hemos hecho de los datos podemos concluir que:\n",
    "\n",
    "- La media de edad de los clientes de seguro médico es de 39 años. \n",
    "- La media de hijos es igual a 1.\n",
    "- Y los gastos en seguro médico son en promedio de 13270 dólares.\n",
    "- La media y la mediana para la edad, el bmi y la cantidad de hijos son similares, lo cual nos indica que la distribución de nuestros datos es simétrica. \n",
    "- El género más común entre los clientes es masculino. \n",
    "- La mayoría de los clientes no tienen hijos y son NO fumadores. \n",
    "- En general, los datos de nuestras variables tienen un coeficiente de variación bajo. Esto nos indica que la dispersión de nuestros datos es baja. "
   ]
  },
  {
   "cell_type": "markdown",
   "metadata": {},
   "source": []
  }
 ],
 "metadata": {
  "kernelspec": {
   "display_name": "Python 3.9.7 ('base')",
   "language": "python",
   "name": "python3"
  },
  "language_info": {
   "codemirror_mode": {
    "name": "ipython",
    "version": 3
   },
   "file_extension": ".py",
   "mimetype": "text/x-python",
   "name": "python",
   "nbconvert_exporter": "python",
   "pygments_lexer": "ipython3",
   "version": "3.9.7"
  },
  "orig_nbformat": 4,
  "vscode": {
   "interpreter": {
    "hash": "0620710c65b0f5ccc651a2aa8870ae0eb4c70492424a8d7866846658189426a3"
   }
  }
 },
 "nbformat": 4,
 "nbformat_minor": 2
}
