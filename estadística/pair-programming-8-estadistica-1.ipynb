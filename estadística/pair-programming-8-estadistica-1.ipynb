{
 "cells": [
  {
   "cell_type": "code",
   "execution_count": 1,
   "metadata": {},
   "outputs": [],
   "source": [
    "import pandas as pd\n",
    "import numpy as np\n",
    "from scipy import stats"
   ]
  },
  {
   "cell_type": "markdown",
   "metadata": {},
   "source": [
    "Empezamos una nueva lección, y este es el momento de poner en práctica los conocimientos adquiridos del Estadística Descriptiva básica. En este caso vamos a darle un giro de tuerca a la forma en la que se ha resuelto los ejercicios de la Pair de hasta ahora! Para ello os vamos a pedir que por vuestra cuenta busqueis un dataset que os guste, por ejemplo de Kaggle o de donde queráis extraerlo. De esta forma vamos a estudiar los diferentes estadísiticos que contiene en dataset seleccionado Para todas los ejercicios de pair programming de Estadística I, II y III usaremos el dataframe que se tome para el desarrollo de este ejercicio de pair programming."
   ]
  },
  {
   "cell_type": "markdown",
   "metadata": {},
   "source": [
    "EJERCICIO 1: Buscar un conjunto de datos a analizar: \n",
    "Se recomienda que el conjunto de datos a analizar tenga variables numéricas y categóricas. Ya que también se analizarán."
   ]
  },
  {
   "cell_type": "code",
   "execution_count": 2,
   "metadata": {},
   "outputs": [
    {
     "data": {
      "text/html": [
       "<div>\n",
       "<style scoped>\n",
       "    .dataframe tbody tr th:only-of-type {\n",
       "        vertical-align: middle;\n",
       "    }\n",
       "\n",
       "    .dataframe tbody tr th {\n",
       "        vertical-align: top;\n",
       "    }\n",
       "\n",
       "    .dataframe thead th {\n",
       "        text-align: right;\n",
       "    }\n",
       "</style>\n",
       "<table border=\"1\" class=\"dataframe\">\n",
       "  <thead>\n",
       "    <tr style=\"text-align: right;\">\n",
       "      <th></th>\n",
       "      <th>age</th>\n",
       "      <th>sex</th>\n",
       "      <th>bmi</th>\n",
       "      <th>children</th>\n",
       "      <th>smoker</th>\n",
       "      <th>region</th>\n",
       "      <th>charges</th>\n",
       "    </tr>\n",
       "  </thead>\n",
       "  <tbody>\n",
       "    <tr>\n",
       "      <th>0</th>\n",
       "      <td>19</td>\n",
       "      <td>female</td>\n",
       "      <td>27.900</td>\n",
       "      <td>0</td>\n",
       "      <td>yes</td>\n",
       "      <td>southwest</td>\n",
       "      <td>16884.92400</td>\n",
       "    </tr>\n",
       "    <tr>\n",
       "      <th>1</th>\n",
       "      <td>18</td>\n",
       "      <td>male</td>\n",
       "      <td>33.770</td>\n",
       "      <td>1</td>\n",
       "      <td>no</td>\n",
       "      <td>southeast</td>\n",
       "      <td>1725.55230</td>\n",
       "    </tr>\n",
       "    <tr>\n",
       "      <th>2</th>\n",
       "      <td>28</td>\n",
       "      <td>male</td>\n",
       "      <td>33.000</td>\n",
       "      <td>3</td>\n",
       "      <td>no</td>\n",
       "      <td>southeast</td>\n",
       "      <td>4449.46200</td>\n",
       "    </tr>\n",
       "    <tr>\n",
       "      <th>3</th>\n",
       "      <td>33</td>\n",
       "      <td>male</td>\n",
       "      <td>22.705</td>\n",
       "      <td>0</td>\n",
       "      <td>no</td>\n",
       "      <td>northwest</td>\n",
       "      <td>21984.47061</td>\n",
       "    </tr>\n",
       "    <tr>\n",
       "      <th>4</th>\n",
       "      <td>32</td>\n",
       "      <td>male</td>\n",
       "      <td>28.880</td>\n",
       "      <td>0</td>\n",
       "      <td>no</td>\n",
       "      <td>northwest</td>\n",
       "      <td>3866.85520</td>\n",
       "    </tr>\n",
       "  </tbody>\n",
       "</table>\n",
       "</div>"
      ],
      "text/plain": [
       "   age     sex     bmi  children smoker     region      charges\n",
       "0   19  female  27.900         0    yes  southwest  16884.92400\n",
       "1   18    male  33.770         1     no  southeast   1725.55230\n",
       "2   28    male  33.000         3     no  southeast   4449.46200\n",
       "3   33    male  22.705         0     no  northwest  21984.47061\n",
       "4   32    male  28.880         0     no  northwest   3866.85520"
      ]
     },
     "execution_count": 2,
     "metadata": {},
     "output_type": "execute_result"
    }
   ],
   "source": [
    "df = pd.read_csv('insurance.csv')\n",
    "df.head()"
   ]
  },
  {
   "cell_type": "code",
   "execution_count": 21,
   "metadata": {},
   "outputs": [
    {
     "data": {
      "text/plain": [
       "(1338, 7)"
      ]
     },
     "execution_count": 21,
     "metadata": {},
     "output_type": "execute_result"
    }
   ],
   "source": [
    "df.shape\n"
   ]
  },
  {
   "cell_type": "markdown",
   "metadata": {},
   "source": [
    "EJERCICIO 2: Extraer los siguentes estadísiticos del conjunto de datos para varias de las variables disponibles:\n",
    "- Media\n",
    "- Desviación con respecto de la media\n",
    "- Varianza\n",
    "- Desviación típica\n",
    "- Moda\n",
    "- Mediana\n",
    "- Media ponderada\n",
    "- Robustez\n",
    "- Coeficiente de variación"
   ]
  },
  {
   "cell_type": "code",
   "execution_count": 3,
   "metadata": {},
   "outputs": [
    {
     "data": {
      "text/html": [
       "<div>\n",
       "<style scoped>\n",
       "    .dataframe tbody tr th:only-of-type {\n",
       "        vertical-align: middle;\n",
       "    }\n",
       "\n",
       "    .dataframe tbody tr th {\n",
       "        vertical-align: top;\n",
       "    }\n",
       "\n",
       "    .dataframe thead th {\n",
       "        text-align: right;\n",
       "    }\n",
       "</style>\n",
       "<table border=\"1\" class=\"dataframe\">\n",
       "  <thead>\n",
       "    <tr style=\"text-align: right;\">\n",
       "      <th></th>\n",
       "      <th>age</th>\n",
       "      <th>bmi</th>\n",
       "      <th>children</th>\n",
       "      <th>charges</th>\n",
       "    </tr>\n",
       "  </thead>\n",
       "  <tbody>\n",
       "    <tr>\n",
       "      <th>count</th>\n",
       "      <td>1338.000000</td>\n",
       "      <td>1338.000000</td>\n",
       "      <td>1338.000000</td>\n",
       "      <td>1338.000000</td>\n",
       "    </tr>\n",
       "    <tr>\n",
       "      <th>mean</th>\n",
       "      <td>39.207025</td>\n",
       "      <td>30.663397</td>\n",
       "      <td>1.094918</td>\n",
       "      <td>13270.422265</td>\n",
       "    </tr>\n",
       "    <tr>\n",
       "      <th>std</th>\n",
       "      <td>14.049960</td>\n",
       "      <td>6.098187</td>\n",
       "      <td>1.205493</td>\n",
       "      <td>12110.011237</td>\n",
       "    </tr>\n",
       "    <tr>\n",
       "      <th>min</th>\n",
       "      <td>18.000000</td>\n",
       "      <td>15.960000</td>\n",
       "      <td>0.000000</td>\n",
       "      <td>1121.873900</td>\n",
       "    </tr>\n",
       "    <tr>\n",
       "      <th>25%</th>\n",
       "      <td>27.000000</td>\n",
       "      <td>26.296250</td>\n",
       "      <td>0.000000</td>\n",
       "      <td>4740.287150</td>\n",
       "    </tr>\n",
       "    <tr>\n",
       "      <th>50%</th>\n",
       "      <td>39.000000</td>\n",
       "      <td>30.400000</td>\n",
       "      <td>1.000000</td>\n",
       "      <td>9382.033000</td>\n",
       "    </tr>\n",
       "    <tr>\n",
       "      <th>75%</th>\n",
       "      <td>51.000000</td>\n",
       "      <td>34.693750</td>\n",
       "      <td>2.000000</td>\n",
       "      <td>16639.912515</td>\n",
       "    </tr>\n",
       "    <tr>\n",
       "      <th>max</th>\n",
       "      <td>64.000000</td>\n",
       "      <td>53.130000</td>\n",
       "      <td>5.000000</td>\n",
       "      <td>63770.428010</td>\n",
       "    </tr>\n",
       "  </tbody>\n",
       "</table>\n",
       "</div>"
      ],
      "text/plain": [
       "               age          bmi     children       charges\n",
       "count  1338.000000  1338.000000  1338.000000   1338.000000\n",
       "mean     39.207025    30.663397     1.094918  13270.422265\n",
       "std      14.049960     6.098187     1.205493  12110.011237\n",
       "min      18.000000    15.960000     0.000000   1121.873900\n",
       "25%      27.000000    26.296250     0.000000   4740.287150\n",
       "50%      39.000000    30.400000     1.000000   9382.033000\n",
       "75%      51.000000    34.693750     2.000000  16639.912515\n",
       "max      64.000000    53.130000     5.000000  63770.428010"
      ]
     },
     "execution_count": 3,
     "metadata": {},
     "output_type": "execute_result"
    }
   ],
   "source": [
    "df.describe()"
   ]
  },
  {
   "cell_type": "code",
   "execution_count": 4,
   "metadata": {},
   "outputs": [
    {
     "data": {
      "text/html": [
       "<div>\n",
       "<style scoped>\n",
       "    .dataframe tbody tr th:only-of-type {\n",
       "        vertical-align: middle;\n",
       "    }\n",
       "\n",
       "    .dataframe tbody tr th {\n",
       "        vertical-align: top;\n",
       "    }\n",
       "\n",
       "    .dataframe thead th {\n",
       "        text-align: right;\n",
       "    }\n",
       "</style>\n",
       "<table border=\"1\" class=\"dataframe\">\n",
       "  <thead>\n",
       "    <tr style=\"text-align: right;\">\n",
       "      <th></th>\n",
       "      <th>age</th>\n",
       "      <th>sex</th>\n",
       "      <th>bmi</th>\n",
       "      <th>children</th>\n",
       "      <th>smoker</th>\n",
       "      <th>region</th>\n",
       "      <th>charges</th>\n",
       "    </tr>\n",
       "  </thead>\n",
       "  <tbody>\n",
       "    <tr>\n",
       "      <th>0</th>\n",
       "      <td>19</td>\n",
       "      <td>female</td>\n",
       "      <td>27.900</td>\n",
       "      <td>0</td>\n",
       "      <td>yes</td>\n",
       "      <td>southwest</td>\n",
       "      <td>16884.92400</td>\n",
       "    </tr>\n",
       "    <tr>\n",
       "      <th>1</th>\n",
       "      <td>18</td>\n",
       "      <td>male</td>\n",
       "      <td>33.770</td>\n",
       "      <td>1</td>\n",
       "      <td>no</td>\n",
       "      <td>southeast</td>\n",
       "      <td>1725.55230</td>\n",
       "    </tr>\n",
       "    <tr>\n",
       "      <th>2</th>\n",
       "      <td>28</td>\n",
       "      <td>male</td>\n",
       "      <td>33.000</td>\n",
       "      <td>3</td>\n",
       "      <td>no</td>\n",
       "      <td>southeast</td>\n",
       "      <td>4449.46200</td>\n",
       "    </tr>\n",
       "    <tr>\n",
       "      <th>3</th>\n",
       "      <td>33</td>\n",
       "      <td>male</td>\n",
       "      <td>22.705</td>\n",
       "      <td>0</td>\n",
       "      <td>no</td>\n",
       "      <td>northwest</td>\n",
       "      <td>21984.47061</td>\n",
       "    </tr>\n",
       "    <tr>\n",
       "      <th>4</th>\n",
       "      <td>32</td>\n",
       "      <td>male</td>\n",
       "      <td>28.880</td>\n",
       "      <td>0</td>\n",
       "      <td>no</td>\n",
       "      <td>northwest</td>\n",
       "      <td>3866.85520</td>\n",
       "    </tr>\n",
       "  </tbody>\n",
       "</table>\n",
       "</div>"
      ],
      "text/plain": [
       "   age     sex     bmi  children smoker     region      charges\n",
       "0   19  female  27.900         0    yes  southwest  16884.92400\n",
       "1   18    male  33.770         1     no  southeast   1725.55230\n",
       "2   28    male  33.000         3     no  southeast   4449.46200\n",
       "3   33    male  22.705         0     no  northwest  21984.47061\n",
       "4   32    male  28.880         0     no  northwest   3866.85520"
      ]
     },
     "execution_count": 4,
     "metadata": {},
     "output_type": "execute_result"
    }
   ],
   "source": [
    "df.head()"
   ]
  },
  {
   "cell_type": "code",
   "execution_count": 26,
   "metadata": {},
   "outputs": [
    {
     "name": "stdout",
     "output_type": "stream",
     "text": [
      "la media de las edades es: 39.21\n",
      "La media de los hijos es: 1.09\n",
      "La media del IMC es: 30.66\n",
      "La media de los costos es: 13270.42\n"
     ]
    }
   ],
   "source": [
    "media_edades = np.round(np.mean(df['age']), decimals=2)\n",
    "print(\"la media de las edades es:\", media_edades)\n",
    "media_hijos = np.round(np.mean(df['children']), decimals=2)\n",
    "print(\"La media de los hijos es:\", media_hijos)\n",
    "media_imc = np.round(np.mean(df['bmi']), decimals=2)\n",
    "print(\"La media del IMC es:\", media_imc)\n",
    "media_costos = np.round(np.mean(df['charges']), decimals=2)\n",
    "print(\"La media de los costos es:\", media_costos)"
   ]
  },
  {
   "cell_type": "code",
   "execution_count": 27,
   "metadata": {},
   "outputs": [
    {
     "name": "stdout",
     "output_type": "stream",
     "text": [
      "la variación de la media de las edades es: 0       20.21\n",
      "1       21.21\n",
      "2       11.21\n",
      "3        6.21\n",
      "4        7.21\n",
      "        ...  \n",
      "1333    10.79\n",
      "1334    21.21\n",
      "1335    21.21\n",
      "1336    18.21\n",
      "1337    21.79\n",
      "Name: age, Length: 1338, dtype: float64\n",
      "La variación de la media de los hijos es: 0       1.09\n",
      "1       0.09\n",
      "2       1.91\n",
      "3       1.09\n",
      "4       1.09\n",
      "        ... \n",
      "1333    1.91\n",
      "1334    1.09\n",
      "1335    1.09\n",
      "1336    1.09\n",
      "1337    1.09\n",
      "Name: children, Length: 1338, dtype: float64\n",
      "La variación de la media del IMC es: 0       2.760\n",
      "1       3.110\n",
      "2       2.340\n",
      "3       7.955\n",
      "4       1.780\n",
      "        ...  \n",
      "1333    0.310\n",
      "1334    1.260\n",
      "1335    6.190\n",
      "1336    4.860\n",
      "1337    1.590\n",
      "Name: bmi, Length: 1338, dtype: float64\n",
      "La variación de la media de los costos es: 0        3614.50400\n",
      "1       11544.86770\n",
      "2        8820.95800\n",
      "3        8714.05061\n",
      "4        9403.56480\n",
      "           ...     \n",
      "1333     2669.87170\n",
      "1334    11064.43920\n",
      "1335    11640.58650\n",
      "1336    11262.47500\n",
      "1337    15870.94030\n",
      "Name: charges, Length: 1338, dtype: float64\n"
     ]
    }
   ],
   "source": [
    "variacion_media_edades = np.abs(df[\"age\"]-media_edades)\n",
    "print(\"la variación de la media de las edades es:\", variacion_media_edades)\n",
    "variacion_media_hijos = np.abs(df['children']-media_hijos)\n",
    "print(\"La variación de la media de los hijos es:\", variacion_media_hijos)\n",
    "variacion_media_imc = np.abs(df['bmi']- media_imc)\n",
    "print(\"La variación de la media del IMC es:\", variacion_media_imc)\n",
    "variacion_media_costos = np.abs(df['charges']- media_costos)\n",
    "print(\"La variación de la media de los costos es:\", variacion_media_costos)"
   ]
  },
  {
   "cell_type": "code",
   "execution_count": 29,
   "metadata": {},
   "outputs": [
    {
     "name": "stdout",
     "output_type": "stream",
     "text": [
      "la varianza de las edades es: 197.25\n",
      "La varianza de los hijos es: 1.45\n",
      "La varianza del IMC es: 37.16\n",
      "La varianza de los costos es: 146542766.49\n"
     ]
    }
   ],
   "source": [
    "varianza_edades = np.round(np.var(df['age']), decimals= 2)\n",
    "print(\"la varianza de las edades es:\", varianza_edades)\n",
    "varianza_hijos = np.round(np.var(df['children']), decimals=2)\n",
    "print(\"La varianza de los hijos es:\", varianza_hijos)\n",
    "varianza_imc = np.round(np.var(df['bmi']), decimals=2)\n",
    "print(\"La varianza del IMC es:\", varianza_imc)\n",
    "varianza_costos = np.round(np.var(df['charges']), decimals=2)\n",
    "print(\"La varianza de los costos es:\", varianza_costos)"
   ]
  },
  {
   "cell_type": "code",
   "execution_count": 34,
   "metadata": {},
   "outputs": [
    {
     "name": "stdout",
     "output_type": "stream",
     "text": [
      "La desviación típica de la edad es: 14.04\n",
      "La desviación típica de los hijos es: 1.21\n",
      "La desviación típica del IMC es: 6.1\n",
      "La desviación típica de los costos es: 12105.48\n"
     ]
    }
   ],
   "source": [
    "desv_tip_edades = np.round(np.std(df[\"age\"]), decimals=2)\n",
    "print(\"La desviación típica de la edad es:\", desv_tip_edades)\n",
    "desv_tip_hijos = np.round(np.std(df[\"children\"]), decimals=2)\n",
    "print(\"La desviación típica de los hijos es:\", desv_tip_hijos)\n",
    "desv_tip_imc = np.round(np.std(df[\"bmi\"]), decimals=2)\n",
    "print(\"La desviación típica del IMC es:\", desv_tip_imc)\n",
    "desv_tip_costos = np.round(np.std(df[\"charges\"]), decimals=2)\n",
    "print(\"La desviación típica de los costos es:\", desv_tip_costos)\n"
   ]
  },
  {
   "cell_type": "code",
   "execution_count": 38,
   "metadata": {},
   "outputs": [
    {
     "data": {
      "text/plain": [
       "Index(['age', 'sex', 'bmi', 'children', 'smoker', 'region', 'charges'], dtype='object')"
      ]
     },
     "execution_count": 38,
     "metadata": {},
     "output_type": "execute_result"
    }
   ],
   "source": [
    "df.columns"
   ]
  },
  {
   "cell_type": "code",
   "execution_count": 41,
   "metadata": {},
   "outputs": [
    {
     "name": "stdout",
     "output_type": "stream",
     "text": [
      "[[18 'male' 32.3 0 'no' 'southeast' 1639.5631]]\n",
      "[[  69  676   13  574 1064  364    2]]\n"
     ]
    }
   ],
   "source": [
    "moda_df, frecuencia_df = stats.mode(df)\n",
    "print(moda_df)\n",
    "print(frecuencia_df)"
   ]
  },
  {
   "cell_type": "code",
   "execution_count": 59,
   "metadata": {},
   "outputs": [
    {
     "name": "stdout",
     "output_type": "stream",
     "text": [
      "la moda de la edad es: 18 y su frecuencia: 69\n",
      "la moda del sexo es: male y su frecuencia: 676\n",
      "la moda del IMC es: 32.3 y su frecuencia: 13\n",
      "la moda de los niños es: 0 y su frecuencia: 574\n",
      "la moda de los fumadores es: no y su frecuencia: 1064\n",
      "la moda de la region es: southeast y su frecuencia: 364\n",
      "la moda de los costos es: 1639.5631 y su frecuencia: 2\n"
     ]
    }
   ],
   "source": [
    "print(f\"la moda de la edad es: {moda_df[0][0]} y su frecuencia: {frecuencia_df[0][0]}\")\n",
    "print(f\"la moda del sexo es: {moda_df[0][1]} y su frecuencia: {frecuencia_df[0][1]}\")\n",
    "print(f\"la moda del IMC es: {moda_df[0][2]} y su frecuencia: {frecuencia_df[0][2]}\")\n",
    "print(f\"la moda de los niños es: {moda_df[0][3]} y su frecuencia: {frecuencia_df[0][3]}\")\n",
    "print(f\"la moda de los fumadores es: {moda_df[0][4]} y su frecuencia: {frecuencia_df[0][4]}\")\n",
    "print(f\"la moda de la region es: {moda_df[0][5]} y su frecuencia: {frecuencia_df[0][5]}\")\n",
    "print(f\"la moda de los costos es: {moda_df[0][6]} y su frecuencia: {frecuencia_df[0][6]}\")\n"
   ]
  },
  {
   "cell_type": "code",
   "execution_count": 65,
   "metadata": {},
   "outputs": [
    {
     "data": {
      "text/plain": [
       "39.0"
      ]
     },
     "execution_count": 65,
     "metadata": {},
     "output_type": "execute_result"
    }
   ],
   "source": [
    "np.median(df[\"age\"])"
   ]
  },
  {
   "cell_type": "code",
   "execution_count": null,
   "metadata": {},
   "outputs": [],
   "source": [
    "np.mean(df)\n",
    "desviacion_media = np.abs(datos-media)\n",
    "np.var(datos)\n",
    "np.std(datos)\n",
    "moda, frecuencia = stats.mode(datos) \n",
    "print(moda)         # el 1er array devuelve la moda.\n",
    "print(frecuencia)\n",
    "print(np.median(datos))\n",
    "avg = np.average(datos, weights=w)\n",
    "robustez = 1/df.shape[0]\n",
    "print(np.std(datos) / np.abs(np.mean(datos)))"
   ]
  },
  {
   "cell_type": "markdown",
   "metadata": {},
   "source": [
    "EJERCICIO 3: Interpretación de los resultados.\n",
    "Ahora interpreta los resultados obtenidos de los diferentes estadísticos estudiados haciendo hincapié en aspectos interesantes de tus datos y explica lo mejor posible la naturaleza de los mismos."
   ]
  }
 ],
 "metadata": {
  "kernelspec": {
   "display_name": "Python 3.9.7 ('base')",
   "language": "python",
   "name": "python3"
  },
  "language_info": {
   "codemirror_mode": {
    "name": "ipython",
    "version": 3
   },
   "file_extension": ".py",
   "mimetype": "text/x-python",
   "name": "python",
   "nbconvert_exporter": "python",
   "pygments_lexer": "ipython3",
   "version": "3.9.7"
  },
  "orig_nbformat": 4,
  "vscode": {
   "interpreter": {
    "hash": "8a25273be94c3f568d6307c1258330d891164ee9551e6d3c1016426c9aa8bf5c"
   }
  }
 },
 "nbformat": 4,
 "nbformat_minor": 2
}
