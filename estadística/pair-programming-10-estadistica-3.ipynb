{
 "cells": [
  {
   "cell_type": "code",
   "execution_count": 11,
   "metadata": {},
   "outputs": [],
   "source": [
    "import pandas as pd\n",
    "import numpy as np\n",
    "import scipy.stats as st\n",
    "from scipy.stats import skew"
   ]
  },
  {
   "cell_type": "markdown",
   "metadata": {},
   "source": [
    "EJERCICIO 1\n",
    "\n",
    "Extraer los siguentes estadísiticos del conjunto de datos para varias de las varibles disponibles:\n",
    "- Tabla de contingencia\n"
   ]
  },
  {
   "cell_type": "code",
   "execution_count": 12,
   "metadata": {},
   "outputs": [
    {
     "data": {
      "text/html": [
       "<div>\n",
       "<style scoped>\n",
       "    .dataframe tbody tr th:only-of-type {\n",
       "        vertical-align: middle;\n",
       "    }\n",
       "\n",
       "    .dataframe tbody tr th {\n",
       "        vertical-align: top;\n",
       "    }\n",
       "\n",
       "    .dataframe thead th {\n",
       "        text-align: right;\n",
       "    }\n",
       "</style>\n",
       "<table border=\"1\" class=\"dataframe\">\n",
       "  <thead>\n",
       "    <tr style=\"text-align: right;\">\n",
       "      <th></th>\n",
       "      <th>age</th>\n",
       "      <th>bmi</th>\n",
       "      <th>children</th>\n",
       "      <th>charges</th>\n",
       "    </tr>\n",
       "  </thead>\n",
       "  <tbody>\n",
       "    <tr>\n",
       "      <th>count</th>\n",
       "      <td>1338.000000</td>\n",
       "      <td>1338.000000</td>\n",
       "      <td>1338.000000</td>\n",
       "      <td>1338.000000</td>\n",
       "    </tr>\n",
       "    <tr>\n",
       "      <th>mean</th>\n",
       "      <td>39.207025</td>\n",
       "      <td>30.663397</td>\n",
       "      <td>1.094918</td>\n",
       "      <td>13270.422265</td>\n",
       "    </tr>\n",
       "    <tr>\n",
       "      <th>std</th>\n",
       "      <td>14.049960</td>\n",
       "      <td>6.098187</td>\n",
       "      <td>1.205493</td>\n",
       "      <td>12110.011237</td>\n",
       "    </tr>\n",
       "    <tr>\n",
       "      <th>min</th>\n",
       "      <td>18.000000</td>\n",
       "      <td>15.960000</td>\n",
       "      <td>0.000000</td>\n",
       "      <td>1121.873900</td>\n",
       "    </tr>\n",
       "    <tr>\n",
       "      <th>25%</th>\n",
       "      <td>27.000000</td>\n",
       "      <td>26.296250</td>\n",
       "      <td>0.000000</td>\n",
       "      <td>4740.287150</td>\n",
       "    </tr>\n",
       "    <tr>\n",
       "      <th>50%</th>\n",
       "      <td>39.000000</td>\n",
       "      <td>30.400000</td>\n",
       "      <td>1.000000</td>\n",
       "      <td>9382.033000</td>\n",
       "    </tr>\n",
       "    <tr>\n",
       "      <th>75%</th>\n",
       "      <td>51.000000</td>\n",
       "      <td>34.693750</td>\n",
       "      <td>2.000000</td>\n",
       "      <td>16639.912515</td>\n",
       "    </tr>\n",
       "    <tr>\n",
       "      <th>max</th>\n",
       "      <td>64.000000</td>\n",
       "      <td>53.130000</td>\n",
       "      <td>5.000000</td>\n",
       "      <td>63770.428010</td>\n",
       "    </tr>\n",
       "  </tbody>\n",
       "</table>\n",
       "</div>"
      ],
      "text/plain": [
       "               age          bmi     children       charges\n",
       "count  1338.000000  1338.000000  1338.000000   1338.000000\n",
       "mean     39.207025    30.663397     1.094918  13270.422265\n",
       "std      14.049960     6.098187     1.205493  12110.011237\n",
       "min      18.000000    15.960000     0.000000   1121.873900\n",
       "25%      27.000000    26.296250     0.000000   4740.287150\n",
       "50%      39.000000    30.400000     1.000000   9382.033000\n",
       "75%      51.000000    34.693750     2.000000  16639.912515\n",
       "max      64.000000    53.130000     5.000000  63770.428010"
      ]
     },
     "execution_count": 12,
     "metadata": {},
     "output_type": "execute_result"
    }
   ],
   "source": [
    "df = pd.read_csv('insurance.csv')\n",
    "df.describe()"
   ]
  },
  {
   "cell_type": "code",
   "execution_count": 13,
   "metadata": {},
   "outputs": [
    {
     "name": "stdout",
     "output_type": "stream",
     "text": [
      "smoker   no  yes\n",
      "sex             \n",
      "female  547  115\n",
      "male    517  159\n"
     ]
    }
   ],
   "source": [
    "# Tabla de contingencia para sexo y smoker\n",
    "\n",
    "ins_data_crosstab = pd.crosstab(df['sex'], \n",
    "                            df['smoker']) \n",
    "print(ins_data_crosstab) "
   ]
  },
  {
   "cell_type": "code",
   "execution_count": 14,
   "metadata": {},
   "outputs": [
    {
     "name": "stdout",
     "output_type": "stream",
     "text": [
      "smoker      no  yes\n",
      "region             \n",
      "northeast  257   67\n",
      "northwest  267   58\n",
      "southeast  273   91\n",
      "southwest  267   58\n"
     ]
    }
   ],
   "source": [
    "# Tabla de contingencia para region y smoker\n",
    "ins_data_crosstab = pd.crosstab(df['region'], \n",
    "                            df['smoker']) \n",
    "print(ins_data_crosstab) "
   ]
  },
  {
   "cell_type": "code",
   "execution_count": 15,
   "metadata": {},
   "outputs": [
    {
     "name": "stdout",
     "output_type": "stream",
     "text": [
      "children_groups  (0, 1]  (1, 2]  (2, 3]  (3, 4]  (4, 5]\n",
      "age_groups                                             \n",
      "(18, 28]             60      43      25       5       5\n",
      "(28, 38]             81      61      41       6       3\n",
      "(38, 48]             91      72      35       7       8\n",
      "(48, 58]             64      46      37       5       2\n"
     ]
    }
   ],
   "source": [
    "# Tabla de contingencia para edad y cantidad de hijos \n",
    "\n",
    "bins_age = np.arange(18, 68, 10)\n",
    "bins_children = np.arange(0, 5+1, 1)\n",
    "\n",
    "\n",
    "df[\"age_groups\"] = pd.cut(df[\"age\"], bins=bins_age)\n",
    "df[\"children_groups\"] = pd.cut(df[\"children\"], bins=bins_children)\n",
    "\n",
    "\n",
    "age_child_crosstab = pd.crosstab(df[\"age_groups\"], \n",
    "                            df[\"children_groups\"]) \n",
    "print(age_child_crosstab) "
   ]
  },
  {
   "cell_type": "code",
   "execution_count": 16,
   "metadata": {},
   "outputs": [
    {
     "name": "stdout",
     "output_type": "stream",
     "text": [
      "smoker       no  yes\n",
      "age_groups          \n",
      "(18, 28]    253   68\n",
      "(28, 38]    201   58\n",
      "(38, 48]    212   64\n",
      "(48, 58]    233   41\n"
     ]
    }
   ],
   "source": [
    "# Tabla de contingencia para edad y smoker\n",
    "\n",
    "age_smoker_crosstab = pd.crosstab(df['age_groups'], df['smoker'])\n",
    "print(age_smoker_crosstab)"
   ]
  },
  {
   "cell_type": "markdown",
   "metadata": {},
   "source": [
    "- Coeficiente de correlación de las variables numéricas del dataset.\n"
   ]
  },
  {
   "cell_type": "code",
   "execution_count": 17,
   "metadata": {},
   "outputs": [
    {
     "name": "stdout",
     "output_type": "stream",
     "text": [
      "[[1.         0.29900819]\n",
      " [0.29900819 1.        ]]\n"
     ]
    }
   ],
   "source": [
    "matriz_correlacion = np.corrcoef(df['age'], df['charges'])\n",
    "print(matriz_correlacion)"
   ]
  },
  {
   "cell_type": "code",
   "execution_count": 18,
   "metadata": {},
   "outputs": [
    {
     "name": "stdout",
     "output_type": "stream",
     "text": [
      "[[1.         0.19834097]\n",
      " [0.19834097 1.        ]]\n"
     ]
    }
   ],
   "source": [
    "matriz_correlacion1 = np.corrcoef(df['bmi'], df['charges'])\n",
    "print(matriz_correlacion1)"
   ]
  },
  {
   "cell_type": "code",
   "execution_count": 27,
   "metadata": {},
   "outputs": [
    {
     "name": "stdout",
     "output_type": "stream",
     "text": [
      "[[1.         0.10927188]\n",
      " [0.10927188 1.        ]]\n"
     ]
    }
   ],
   "source": [
    "matriz_correlacion=np.corrcoef(df[\"age\"],df[\"bmi\"])\n",
    "print(matriz_correlacion)"
   ]
  },
  {
   "cell_type": "code",
   "execution_count": 28,
   "metadata": {},
   "outputs": [
    {
     "name": "stdout",
     "output_type": "stream",
     "text": [
      "[[1.       0.042469]\n",
      " [0.042469 1.      ]]\n"
     ]
    }
   ],
   "source": [
    "matriz_correlacion_2=np.corrcoef(df[\"age\"],df[\"children\"])\n",
    "print(matriz_correlacion_2)"
   ]
  },
  {
   "cell_type": "markdown",
   "metadata": {},
   "source": [
    "- Sesgos de alguna de las variables numéricas del dataset.\n"
   ]
  },
  {
   "cell_type": "code",
   "execution_count": 19,
   "metadata": {},
   "outputs": [
    {
     "name": "stdout",
     "output_type": "stream",
     "text": [
      "0.28372857291709386\n"
     ]
    }
   ],
   "source": [
    "skewness_bmi = skew(df['bmi'])\n",
    "print(skewness_bmi)"
   ]
  },
  {
   "cell_type": "code",
   "execution_count": 20,
   "metadata": {},
   "outputs": [
    {
     "data": {
      "text/plain": [
       "<AxesSubplot:ylabel='Frequency'>"
      ]
     },
     "execution_count": 20,
     "metadata": {},
     "output_type": "execute_result"
    },
    {
     "data": {
      "image/png": "[encoded data removed]",
      "text/plain": [
       "<Figure size 432x288 with 1 Axes>"
      ]
     },
     "metadata": {
      "needs_background": "light"
     },
     "output_type": "display_data"
    }
   ],
   "source": [
    "df_bmi = df['bmi']\n",
    "df_bmi.plot.hist()"
   ]
  },
  {
   "cell_type": "code",
   "execution_count": 21,
   "metadata": {},
   "outputs": [
    {
     "name": "stdout",
     "output_type": "stream",
     "text": [
      "1.5141797118745743\n"
     ]
    }
   ],
   "source": [
    "skewness_charges = skew(df['charges'])\n",
    "print(skewness_charges)"
   ]
  },
  {
   "cell_type": "code",
   "execution_count": 22,
   "metadata": {},
   "outputs": [
    {
     "data": {
      "text/plain": [
       "<AxesSubplot:ylabel='Frequency'>"
      ]
     },
     "execution_count": 22,
     "metadata": {},
     "output_type": "execute_result"
    },
    {
     "data": {
      "image/png": "[encoded data removed]",
      "text/plain": [
       "<Figure size 432x288 with 1 Axes>"
      ]
     },
     "metadata": {
      "needs_background": "light"
     },
     "output_type": "display_data"
    }
   ],
   "source": [
    "df_charges = df['charges']\n",
    "df_charges.plot.hist()"
   ]
  },
  {
   "cell_type": "code",
   "execution_count": 26,
   "metadata": {},
   "outputs": [
    {
     "name": "stdout",
     "output_type": "stream",
     "text": [
      "El sesgo de la columna edad es: 0.055610083072599126\n",
      "El sesgo de la columna bmi es: 0.28372857291709386\n",
      "El sesgo de la columna children es: 0.9373281163874423\n",
      "El sesgo de la columna charge es: 1.5141797118745743\n"
     ]
    }
   ],
   "source": [
    "skewness1=skew(df[\"age\"])\n",
    "print(f\"El sesgo de la columna edad es: {skewness1}\")\n",
    "skewness2=skew(df[\"bmi\"])\n",
    "print(f\"El sesgo de la columna bmi es: {skewness2}\")\n",
    "skewness3=skew(df[\"children\"])\n",
    "print(f\"El sesgo de la columna children es: {skewness3}\")\n",
    "skewness4=skew(df[\"charges\"])\n",
    "print(f\"El sesgo de la columna charge es: {skewness4}\")"
   ]
  },
  {
   "cell_type": "markdown",
   "metadata": {},
   "source": [
    "- Intervalo de confianza de algunas de las variables numéricas del dataset"
   ]
  },
  {
   "cell_type": "code",
   "execution_count": 25,
   "metadata": {},
   "outputs": [
    {
     "name": "stdout",
     "output_type": "stream",
     "text": [
      "El intervalo de confianza de la columna age es: (38.453516373452935, 39.96053444866964)\n",
      "Y su media es: 39.20702541106129\n",
      "----------------------------------------------------------------------\n",
      "El intervalo de confianza de la columna bmi es: (30.336346903054096, 30.99044681891898)\n",
      "Y su media es: 30.663396860986538\n",
      "----------------------------------------------------------------------\n",
      "El intervalo de confianza de la columna children es: (1.030266383064163, 1.159569192421637)\n",
      "Y su media es: 1.0949177877429\n",
      "----------------------------------------------------------------------\n",
      "El intervalo de confianza de la columna charges es: (12620.954034192644, 13919.890496089869)\n",
      "Y su media es: 13270.422265141257\n"
     ]
    }
   ],
   "source": [
    "data_age=df[\"age\"]\n",
    "confianza_age=st.t.interval(alpha=0.95, df=len(data_age)-1, loc=np.mean(data_age), scale=st.sem(data_age))\n",
    "print(f\"El intervalo de confianza de la columna age es: {confianza_age}\")\n",
    "print(f\"Y su media es: {np.mean(data_age)}\")\n",
    "print(\"----------------------------------------------------------------------\")\n",
    "data_bmi=df[\"bmi\"]\n",
    "confianza_bmi=st.t.interval(alpha=0.95, df=len(data_bmi)-1, loc=np.mean(data_bmi), scale=st.sem(data_bmi))\n",
    "print(f\"El intervalo de confianza de la columna bmi es: {confianza_bmi}\")\n",
    "print(f\"Y su media es: {np.mean(data_bmi)}\")\n",
    "print(\"----------------------------------------------------------------------\")\n",
    "data_children=df[\"children\"]\n",
    "confianza_children=st.t.interval(alpha=0.95, df=len(data_children)-1, loc=np.mean(data_children), scale=st.sem(data_children))\n",
    "print(f\"El intervalo de confianza de la columna children es: {confianza_children}\")\n",
    "print(f\"Y su media es: {np.mean(data_children)}\")\n",
    "print(\"----------------------------------------------------------------------\")\n",
    "data_charges=df[\"charges\"]\n",
    "confianza_charges=st.t.interval(alpha=0.95, df=len(data_charges)-1, loc=np.mean(data_charges), scale=st.sem(data_charges))\n",
    "print(f\"El intervalo de confianza de la columna charges es: {confianza_charges}\")\n",
    "print(f\"Y su media es: {np.mean(data_charges)}\")"
   ]
  },
  {
   "cell_type": "markdown",
   "metadata": {},
   "source": [
    "EJERCICIO 3\n",
    "\n",
    "Interpretación de los resultados.\n",
    "- Ahora interpreta los resultados obtenidos de los diferentes estadísticos estudiados haciendo hincapié en aspectos interesantes de tus datos y explica lo mejor posible la naturaleza de los mismos."
   ]
  },
  {
   "cell_type": "markdown",
   "metadata": {},
   "source": [
    "En las Tablas de contingencia podemos observar la relación que existe entre las dos variables seleccionadas.\n",
    "Podemos observar, por ejemplo:\n",
    "\n",
    "- Que no parece haber una relación entre ser fumador o no y el sexo.\n",
    "- Que tampoco parece haber una relación clara entre ser fumador y la región de residencia. \n",
    "- Esperabamos observar una mayor variabilidad entre grupos de edades y cantidad de hijos (menor cantidad de hijos a más jóvenes), pero esta diferencia es muy leve.\n",
    "- Lo más común es no tener o tener un hijo independientemente de la edad. \n",
    "- Es menos común tener de 3 hijos en adelante. \n",
    "\n",
    "Coeficientes de correlación:\n",
    "\n",
    "Hemos calculado los coeficientes de correlación para los siguientes pares de variables:\n",
    "\n",
    "- Edad y Costes\n",
    "- IMC y Costes\n",
    "- Edad y IMC\n",
    "- Edad y cantidad de hijos\n",
    "\n",
    "Los índices de correlación para todas las combinaciones son bajos (<0.3), lo cual nos hace pensar que no existe relación entre estas variables. \n",
    "\n",
    "Sesgos:\n",
    "\n",
    "Calculamos los sesgos para todas las variables numéricas. \n",
    "\n",
    "- Para el caso del BMI, el sesgo es positivo, y se puede observar en el histograma una pequeña cola hacia la derecha, sin embargo, el valor se acerca bastante a cero y por la gráfica se ve una distribución casi normal. \n",
    "\n",
    "- En el caso de los Costes, el sesgo es positivo y mayor a 1, por lo cual está sesgado hacia la dereacha, lo cual se observa claramente en el histograma. \n",
    "\n",
    "\n",
    "Intervalos de confianza:\n",
    "\n",
    "Hemos calculado los intervalos de confianza para todas las variables numéricas. \n",
    "El intervalo más amplio lo observamos en la variable Costes (los datos con mayor dispersión), aunque tampoco es un rango muy elevado. \n"
   ]
  }
 ],
 "metadata": {
  "kernelspec": {
   "display_name": "Python 3.8.10 64-bit",
   "language": "python",
   "name": "python3"
  },
  "language_info": {
   "codemirror_mode": {
    "name": "ipython",
    "version": 3
   },
   "file_extension": ".py",
   "mimetype": "text/x-python",
   "name": "python",
   "nbconvert_exporter": "python",
   "pygments_lexer": "ipython3",
   "version": "3.8.10"
  },
  "orig_nbformat": 4,
  "vscode": {
   "interpreter": {
    "hash": "916dbcbb3f70747c44a77c7bcd40155683ae19c65e1c03b4aa3499c5328201f1"
   }
  }
 },
 "nbformat": 4,
 "nbformat_minor": 2
}
