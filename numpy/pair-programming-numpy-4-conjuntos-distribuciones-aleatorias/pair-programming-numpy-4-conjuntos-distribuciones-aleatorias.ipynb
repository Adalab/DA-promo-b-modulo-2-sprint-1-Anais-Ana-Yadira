{
 "cells": [
  {
   "cell_type": "code",
   "execution_count": 1,
   "metadata": {},
   "outputs": [],
   "source": [
    "import numpy as np"
   ]
  },
  {
   "cell_type": "markdown",
   "metadata": {},
   "source": [
    "EJERCICIO 1: ¿Cómo podemos crear dos arrays de dos dimensiones usando el método random_sample que tengan los mismos valores?"
   ]
  },
  {
   "cell_type": "code",
   "execution_count": 2,
   "metadata": {},
   "outputs": [
    {
     "data": {
      "text/plain": [
       "array([[0.37454012, 0.95071431, 0.73199394, 0.59865848],\n",
       "       [0.15601864, 0.15599452, 0.05808361, 0.86617615],\n",
       "       [0.60111501, 0.70807258, 0.02058449, 0.96990985]])"
      ]
     },
     "execution_count": 2,
     "metadata": {},
     "output_type": "execute_result"
    }
   ],
   "source": [
    "np.random.seed(42)\n",
    "array_sample1=np.random.random_sample((3,4))\n",
    "array_sample1"
   ]
  },
  {
   "cell_type": "code",
   "execution_count": 3,
   "metadata": {},
   "outputs": [
    {
     "data": {
      "text/plain": [
       "array([[0.37454012, 0.95071431, 0.73199394, 0.59865848],\n",
       "       [0.15601864, 0.15599452, 0.05808361, 0.86617615],\n",
       "       [0.60111501, 0.70807258, 0.02058449, 0.96990985]])"
      ]
     },
     "execution_count": 3,
     "metadata": {},
     "output_type": "execute_result"
    }
   ],
   "source": [
    "np.random.seed(42)\n",
    "array_sample2=np.random.random_sample((3,4))\n",
    "array_sample2"
   ]
  },
  {
   "cell_type": "markdown",
   "metadata": {},
   "source": [
    "EJERCICIO 2: Cread los siguientes arrays:\n",
    "- Un array de tres dimensiones con distribución uniforme de 2 x 3 x 5, con números entre 0 y 10, que no tengan decimales y extrae sus valores únicos almacenándolos en una variable.\n",
    "- Un array de tres dimensiones con distribución binomial de 2 x 3 x 5, con probabilidad de 0.3 y número de pruebas igual a 10. Igual que antes guarda los datos en una variable."
   ]
  },
  {
   "cell_type": "code",
   "execution_count": 4,
   "metadata": {},
   "outputs": [
    {
     "data": {
      "text/plain": [
       "array([[[5, 1, 4, 0, 9],\n",
       "        [5, 8, 0, 9, 2],\n",
       "        [6, 3, 8, 2, 4]],\n",
       "\n",
       "       [[2, 6, 4, 8, 6],\n",
       "        [1, 3, 8, 1, 9],\n",
       "        [8, 9, 4, 1, 3]]])"
      ]
     },
     "execution_count": 4,
     "metadata": {},
     "output_type": "execute_result"
    }
   ],
   "source": [
    "array_int=np.random.randint(0,10,(2,3,5))\n",
    "array_int"
   ]
  },
  {
   "cell_type": "code",
   "execution_count": 5,
   "metadata": {},
   "outputs": [
    {
     "name": "stdout",
     "output_type": "stream",
     "text": [
      "Los valores únicos del array son: [0 1 2 3 4 5 6 8 9]\n"
     ]
    }
   ],
   "source": [
    "val_unicos=np.unique(array_int)\n",
    "print(f\"Los valores únicos del array son: {val_unicos}\")"
   ]
  },
  {
   "cell_type": "code",
   "execution_count": 6,
   "metadata": {},
   "outputs": [
    {
     "name": "stdout",
     "output_type": "stream",
     "text": [
      "El número de veces que salió 1 es: \n",
      "[[[2 4 3 4 2]\n",
      "  [3 2 4 3 2]\n",
      "  [3 1 4 3 3]]\n",
      "\n",
      " [[5 4 2 3 3]\n",
      "  [6 4 4 3 3]\n",
      "  [6 3 2 2 2]]]\n"
     ]
    }
   ],
   "source": [
    "array_bino=np.random.binomial(10,0.3, size=(2,3,5))\n",
    "print(\"El número de veces que salió 1 es: \")\n",
    "print(array_bino)"
   ]
  },
  {
   "cell_type": "code",
   "execution_count": 7,
   "metadata": {},
   "outputs": [
    {
     "name": "stdout",
     "output_type": "stream",
     "text": [
      "Los valores únicos del array binomial son: [1 2 3 4 5 6]\n"
     ]
    }
   ],
   "source": [
    "bino_unicos=np.unique(array_bino)\n",
    "print(f\"Los valores únicos del array binomial son: {bino_unicos}\")"
   ]
  },
  {
   "cell_type": "markdown",
   "metadata": {},
   "source": [
    "EJERCICIO 3: En esta lección hemos aprendido algunos métodos de teórias de conjuntos. Usando los arrays de elementos únicos obtenidos en el ejercicio anterior realizad las siguientes operaciones:\n",
    "- Elementos comunes entre los dos arrays\n",
    "- Unión de los dos arrays\n",
    "- ¿Qué elementos están en el array derivado de la distribución uniforme y no en los únicos de la distribución binomial? Extrae los valores númericos.\n",
    "\n",
    "⚠️ Explicar cada uno de los outputs que os salgan. Que significa cada una de estas operaciones que hemos ido extrayendo?"
   ]
  },
  {
   "cell_type": "code",
   "execution_count": 8,
   "metadata": {},
   "outputs": [
    {
     "name": "stdout",
     "output_type": "stream",
     "text": [
      "Los valores únicos entre los arrays son: [1 2 3 4 5 6]\n"
     ]
    }
   ],
   "source": [
    "comun_arrays=np.intersect1d(val_unicos,bino_unicos)\n",
    "print(f\"Los valores únicos entre los arrays son: {comun_arrays}\")"
   ]
  },
  {
   "cell_type": "code",
   "execution_count": 9,
   "metadata": {},
   "outputs": [
    {
     "name": "stdout",
     "output_type": "stream",
     "text": [
      "La unión de los 2 arrays es: [0 1 2 3 4 5 6 8 9]\n"
     ]
    }
   ],
   "source": [
    "union_arrays=np.union1d(val_unicos,bino_unicos)\n",
    "print(f\"La unión de los 2 arrays es: {union_arrays}\")"
   ]
  },
  {
   "cell_type": "code",
   "execution_count": 10,
   "metadata": {},
   "outputs": [
    {
     "name": "stdout",
     "output_type": "stream",
     "text": [
      "La diferencia de elementos entre los valores únicos del array val_unicos y bino_unicos es: [0 8 9]\n"
     ]
    }
   ],
   "source": [
    "dif_val_bino=np.setdiff1d(val_unicos,bino_unicos)\n",
    "print(f\"La diferencia de elementos entre los valores únicos del array val_unicos y bino_unicos es: {dif_val_bino}\")"
   ]
  },
  {
   "cell_type": "markdown",
   "metadata": {},
   "source": [
    "EJERCICIO 4: Cread dos arrays usando el método random.randint de Numpy con 80 elementos cada uno con números del 1-100, con los siguientes nombres array1 y array2.\n",
    "- Extraed los valores únicos de cada uno de los arrays y los guardáis en variables en las que se les llame array1 y array2.\n",
    "- Identificad los elementos presentes en el array1 pero no en el array2 y asiganarlo a una variable que se llame array3.\n",
    "- Identificad los elementos presentes en el array2 pero no en el array1 y asiganarlo a una variable que se llame array4.\n",
    "- Identificad los elementos presentes en ambos arrays y asiganarlos a una variable que se llame array5.\n",
    "- ¿Cuál es la relación que existe entre todos estos arrays? 💡 Pista 💡 Tendréis que usar las longitudes de cada uno de los arrays creados."
   ]
  },
  {
   "cell_type": "code",
   "execution_count": 11,
   "metadata": {},
   "outputs": [
    {
     "data": {
      "text/plain": [
       "array([89, 71,  9, 88,  1,  8, 88, 63, 11, 81,  8, 35, 35, 33,  5, 41, 28,\n",
       "        7, 73, 72, 12, 34, 33, 48, 23, 62, 88, 37, 99, 44, 86, 91, 35, 65,\n",
       "       99, 47, 78,  3,  1,  5, 90, 14, 27,  9, 79, 15, 90, 42, 77, 51, 63,\n",
       "       96, 52, 96,  4, 94, 23, 15, 43, 29, 36, 13, 32, 71, 59, 86, 28, 66,\n",
       "       42, 45, 62, 57,  6, 28, 28, 44, 84, 30, 62, 75])"
      ]
     },
     "execution_count": 11,
     "metadata": {},
     "output_type": "execute_result"
    }
   ],
   "source": [
    "array1=np.random.randint (1,100,(80))\n",
    "array1"
   ]
  },
  {
   "cell_type": "code",
   "execution_count": 12,
   "metadata": {},
   "outputs": [
    {
     "data": {
      "text/plain": [
       "array([92, 89, 62, 97,  1, 27, 62, 77,  3, 70, 72, 27,  9, 62, 37, 97, 51,\n",
       "       44, 24, 79, 59, 32, 96, 88, 52, 62, 58, 52, 12, 39,  2,  3, 56, 81,\n",
       "       59,  2,  2, 92, 54, 87, 96, 97,  1, 19,  2, 53, 44, 90, 32, 70, 32,\n",
       "       68, 55, 75, 56, 17, 38, 24, 69, 98, 70, 86, 11, 16, 97, 73, 59, 70,\n",
       "       80, 93,  3, 20, 59, 36, 19, 90, 67, 19, 20, 96])"
      ]
     },
     "execution_count": 12,
     "metadata": {},
     "output_type": "execute_result"
    }
   ],
   "source": [
    "array2=np.random.randint (1,100,(80))\n",
    "array2"
   ]
  },
  {
   "cell_type": "code",
   "execution_count": 13,
   "metadata": {},
   "outputs": [
    {
     "data": {
      "text/plain": [
       "array([ 1,  3,  4,  5,  6,  7,  8,  9, 11, 12, 13, 14, 15, 23, 27, 28, 29,\n",
       "       30, 32, 33, 34, 35, 36, 37, 41, 42, 43, 44, 45, 47, 48, 51, 52, 57,\n",
       "       59, 62, 63, 65, 66, 71, 72, 73, 75, 77, 78, 79, 81, 84, 86, 88, 89,\n",
       "       90, 91, 94, 96, 99])"
      ]
     },
     "execution_count": 13,
     "metadata": {},
     "output_type": "execute_result"
    }
   ],
   "source": [
    "array1=np.unique(array1)\n",
    "array1"
   ]
  },
  {
   "cell_type": "code",
   "execution_count": 14,
   "metadata": {},
   "outputs": [
    {
     "data": {
      "text/plain": [
       "array([ 1,  2,  3,  9, 11, 12, 16, 17, 19, 20, 24, 27, 32, 36, 37, 38, 39,\n",
       "       44, 51, 52, 53, 54, 55, 56, 58, 59, 62, 67, 68, 69, 70, 72, 73, 75,\n",
       "       77, 79, 80, 81, 86, 87, 88, 89, 90, 92, 93, 96, 97, 98])"
      ]
     },
     "execution_count": 14,
     "metadata": {},
     "output_type": "execute_result"
    }
   ],
   "source": [
    "array2=np.unique(array2)\n",
    "array2"
   ]
  },
  {
   "cell_type": "code",
   "execution_count": 15,
   "metadata": {},
   "outputs": [
    {
     "name": "stdout",
     "output_type": "stream",
     "text": [
      "Los valores que tenemos en el array1 y no en el array2 son: [ 4  5  6  7  8 13 14 15 23 28 29 30 33 34 35 41 42 43 45 47 48 57 63 65\n",
      " 66 71 78 84 91 94 99]\n"
     ]
    }
   ],
   "source": [
    "array3=np.setdiff1d(array1,array2)\n",
    "print(f\"Los valores que tenemos en el array1 y no en el array2 son: {array3}\")"
   ]
  },
  {
   "cell_type": "code",
   "execution_count": 16,
   "metadata": {},
   "outputs": [
    {
     "name": "stdout",
     "output_type": "stream",
     "text": [
      "Los valores que tenemos en el array2 y no en el array1 son: [ 2 16 17 19 20 24 38 39 53 54 55 56 58 67 68 69 70 80 87 92 93 97 98]\n"
     ]
    }
   ],
   "source": [
    "array4=np.setdiff1d(array2,array1)\n",
    "print(f\"Los valores que tenemos en el array2 y no en el array1 son: {array4}\")"
   ]
  },
  {
   "cell_type": "code",
   "execution_count": 17,
   "metadata": {},
   "outputs": [
    {
     "name": "stdout",
     "output_type": "stream",
     "text": [
      "La intersección del array1 y el array2 es:\n",
      "[ 1  3  9 11 12 27 32 36 37 44 51 52 59 62 72 73 75 77 79 81 86 88 89 90\n",
      " 96]\n"
     ]
    }
   ],
   "source": [
    "array5=np.intersect1d(array1,array2)\n",
    "print(f\"La intersección del array1 y el array2 es:\")\n",
    "print(array5)"
   ]
  },
  {
   "cell_type": "markdown",
   "metadata": {},
   "source": [
    "¿Cuál es la relación que existe entre todos estos arrays? 💡 Pista 💡 Tendréis que usar las longitudes de cada uno de los arrays creados."
   ]
  },
  {
   "cell_type": "code",
   "execution_count": 18,
   "metadata": {},
   "outputs": [],
   "source": [
    "# el array 1 y el array 2 fueron creados con la misma longitud pero al crearlo random podemos ver que \n",
    "# el array 1 tiene más valores únicos que el array 2"
   ]
  },
  {
   "cell_type": "code",
   "execution_count": 19,
   "metadata": {},
   "outputs": [
    {
     "data": {
      "text/plain": [
       "56"
      ]
     },
     "execution_count": 19,
     "metadata": {},
     "output_type": "execute_result"
    }
   ],
   "source": [
    "array1.size"
   ]
  },
  {
   "cell_type": "code",
   "execution_count": 20,
   "metadata": {},
   "outputs": [
    {
     "data": {
      "text/plain": [
       "48"
      ]
     },
     "execution_count": 20,
     "metadata": {},
     "output_type": "execute_result"
    }
   ],
   "source": [
    "array2.size"
   ]
  },
  {
   "cell_type": "code",
   "execution_count": 22,
   "metadata": {},
   "outputs": [
    {
     "data": {
      "text/plain": [
       "31"
      ]
     },
     "execution_count": 22,
     "metadata": {},
     "output_type": "execute_result"
    }
   ],
   "source": [
    "# en el array 3 podemos ver los elementos  que estan en el 1 pero no en el 2\n",
    "array3.size"
   ]
  },
  {
   "cell_type": "code",
   "execution_count": 24,
   "metadata": {},
   "outputs": [
    {
     "data": {
      "text/plain": [
       "23"
      ]
     },
     "execution_count": 24,
     "metadata": {},
     "output_type": "execute_result"
    }
   ],
   "source": [
    "# en el array 4 podemos ver los elementos  que estan en el 2 pero no en el 1\n",
    "array4.size"
   ]
  },
  {
   "cell_type": "code",
   "execution_count": 26,
   "metadata": {},
   "outputs": [
    {
     "data": {
      "text/plain": [
       "25"
      ]
     },
     "execution_count": 26,
     "metadata": {},
     "output_type": "execute_result"
    }
   ],
   "source": [
    "# en el array 4 podemos ver los elementos comunes en ambos arrays\n",
    "array5.size"
   ]
  },
  {
   "cell_type": "code",
   "execution_count": 27,
   "metadata": {},
   "outputs": [
    {
     "name": "stdout",
     "output_type": "stream",
     "text": [
      "tamaño de array1: 56\n",
      "tamaño de array2: 48\n",
      "El resultado de sumar el tamaño del array de los valores que solo están en el array1 y el intercepto es: 56, el cual es igual al tamaño del array1\n",
      "El resultado de sumar el tamaño del array de los valores que solo están en el array2 y el intercepto es: 48, el cual es igual al tamaño del array2\n"
     ]
    }
   ],
   "source": [
    "print(f'tamaño de array1: {len(array1)}')\n",
    "print(f'tamaño de array2: {len(array2)}')\n",
    "\n",
    "\n",
    "dif1_inter = np.add(len(array3),len(array5))\n",
    "print(f'El resultado de sumar el tamaño del array de los valores que solo están en el array1 y el intercepto es: {dif1_inter}, el cual es igual al tamaño del array1')\n",
    "\n",
    "dif2_inter = np.add(len(array4),len(array5))\n",
    "print(f'El resultado de sumar el tamaño del array de los valores que solo están en el array2 y el intercepto es: {dif2_inter}, el cual es igual al tamaño del array2')"
   ]
  }
 ],
 "metadata": {
  "kernelspec": {
   "display_name": "Python 3.9.7 ('base')",
   "language": "python",
   "name": "python3"
  },
  "language_info": {
   "codemirror_mode": {
    "name": "ipython",
    "version": 3
   },
   "file_extension": ".py",
   "mimetype": "text/x-python",
   "name": "python",
   "nbconvert_exporter": "python",
   "pygments_lexer": "ipython3",
   "version": "3.9.7"
  },
  "orig_nbformat": 4,
  "vscode": {
   "interpreter": {
    "hash": "0620710c65b0f5ccc651a2aa8870ae0eb4c70492424a8d7866846658189426a3"
   }
  }
 },
 "nbformat": 4,
 "nbformat_minor": 2
}
