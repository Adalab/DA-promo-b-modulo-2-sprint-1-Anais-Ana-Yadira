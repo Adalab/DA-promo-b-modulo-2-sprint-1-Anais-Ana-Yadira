{
 "cells": [
  {
   "cell_type": "code",
   "execution_count": 1,
   "metadata": {},
   "outputs": [],
   "source": [
    "import numpy as np"
   ]
  },
  {
   "cell_type": "markdown",
   "metadata": {},
   "source": [
    "EJERCICIO 1: ¿Cómo podemos crear dos arrays de dos dimensiones usando el método random_sample que tengan los mismos valores?"
   ]
  },
  {
   "cell_type": "code",
   "execution_count": 23,
   "metadata": {},
   "outputs": [
    {
     "data": {
      "text/plain": [
       "array([[0.37454012, 0.95071431, 0.73199394, 0.59865848],\n",
       "       [0.15601864, 0.15599452, 0.05808361, 0.86617615],\n",
       "       [0.60111501, 0.70807258, 0.02058449, 0.96990985]])"
      ]
     },
     "execution_count": 23,
     "metadata": {},
     "output_type": "execute_result"
    }
   ],
   "source": [
    "np.random.seed(42)\n",
    "array_sample1=np.random.random_sample((3,4))\n",
    "array_sample1"
   ]
  },
  {
   "cell_type": "code",
   "execution_count": 24,
   "metadata": {},
   "outputs": [
    {
     "data": {
      "text/plain": [
       "array([[0.37454012, 0.95071431, 0.73199394, 0.59865848],\n",
       "       [0.15601864, 0.15599452, 0.05808361, 0.86617615],\n",
       "       [0.60111501, 0.70807258, 0.02058449, 0.96990985]])"
      ]
     },
     "execution_count": 24,
     "metadata": {},
     "output_type": "execute_result"
    }
   ],
   "source": [
    "np.random.seed(42)\n",
    "array_sample2=np.random.random_sample((3,4))\n",
    "array_sample2"
   ]
  },
  {
   "cell_type": "markdown",
   "metadata": {},
   "source": [
    "EJERCICIO 2: Cread los siguientes arrays:\n",
    "- Un array de tres dimensiones con distribución uniforme de 2 x 3 x 5, con números entre 0 y 10, que no tengan decimales y extrae sus valores únicos almacenándolos en una variable.\n",
    "- Un array de tres dimensiones con distribución binomial de 2 x 3 x 5, con probabilidad de 0.3 y número de pruebas igual a 10. Igual que antes guarda los datos en una variable."
   ]
  },
  {
   "cell_type": "code",
   "execution_count": 25,
   "metadata": {},
   "outputs": [
    {
     "data": {
      "text/plain": [
       "array([[[5, 1, 4, 0, 9],\n",
       "        [5, 8, 0, 9, 2],\n",
       "        [6, 3, 8, 2, 4]],\n",
       "\n",
       "       [[2, 6, 4, 8, 6],\n",
       "        [1, 3, 8, 1, 9],\n",
       "        [8, 9, 4, 1, 3]]])"
      ]
     },
     "execution_count": 25,
     "metadata": {},
     "output_type": "execute_result"
    }
   ],
   "source": [
    "array_int=np.random.randint(0,10,(2,3,5))\n",
    "array_int"
   ]
  },
  {
   "cell_type": "code",
   "execution_count": 12,
   "metadata": {},
   "outputs": [
    {
     "name": "stdout",
     "output_type": "stream",
     "text": [
      "Los valores únicos del array son: [0 1 2 3 4 5 6 8 9]\n"
     ]
    }
   ],
   "source": [
    "val_unicos=np.unique(array_int)\n",
    "print(f\"Los valores únicos del array son: {val_unicos}\")"
   ]
  },
  {
   "cell_type": "code",
   "execution_count": 26,
   "metadata": {},
   "outputs": [
    {
     "name": "stdout",
     "output_type": "stream",
     "text": [
      "El número de veces que salió 1 es: \n",
      "[[[2 4 3 4 2]\n",
      "  [3 2 4 3 2]\n",
      "  [3 1 4 3 3]]\n",
      "\n",
      " [[5 4 2 3 3]\n",
      "  [6 4 4 3 3]\n",
      "  [6 3 2 2 2]]]\n"
     ]
    }
   ],
   "source": [
    "array_bino=np.random.binomial(10,0.3, size=(2,3,5))\n",
    "print(\"El número de veces que salió 1 es: \")\n",
    "print(array_bino)"
   ]
  },
  {
   "cell_type": "code",
   "execution_count": 29,
   "metadata": {},
   "outputs": [
    {
     "name": "stdout",
     "output_type": "stream",
     "text": [
      "Los valores únicos del array binomial son: [1 2 3 4 5 6]\n"
     ]
    }
   ],
   "source": [
    "bino_unicos=np.unique(array_bino)\n",
    "print(f\"Los valores únicos del array binomial son: {bino_unicos}\")"
   ]
  },
  {
   "cell_type": "markdown",
   "metadata": {},
   "source": [
    "EJERCICIO 3: En esta lección hemos aprendido algunos métodos de teórias de conjuntos. Usando los arrays de elementos únicos obtenidos en el ejercicio anterior realizad las siguientes operaciones:\n",
    "- Elementos comunes entre los dos arrays\n",
    "- Unión de los dos arrays\n",
    "- ¿Qué elementos están en el array derivado de la distribución uniforme y no en los únicos de la distribución binomial? Extrae los valores númericos.\n",
    "\n",
    "⚠️ Explicar cada uno de los outputs que os salgan. Que significa cada una de estas operaciones que hemos ido extrayendo?"
   ]
  },
  {
   "cell_type": "code",
   "execution_count": 30,
   "metadata": {},
   "outputs": [
    {
     "name": "stdout",
     "output_type": "stream",
     "text": [
      "Los valores únicos entre los arrays son: [1 2 3 4 5 6]\n"
     ]
    }
   ],
   "source": [
    "comun_arrays=np.intersect1d(val_unicos,bino_unicos)\n",
    "print(f\"Los valores únicos entre los arrays son: {comun_arrays}\")"
   ]
  },
  {
   "cell_type": "code",
   "execution_count": 31,
   "metadata": {},
   "outputs": [
    {
     "name": "stdout",
     "output_type": "stream",
     "text": [
      "La unión de los 2 arrays es: [0 1 2 3 4 5 6 8 9]\n"
     ]
    }
   ],
   "source": [
    "union_arrays=np.union1d(val_unicos,bino_unicos)\n",
    "print(f\"La unión de los 2 arrays es: {union_arrays}\")"
   ]
  },
  {
   "cell_type": "code",
   "execution_count": 35,
   "metadata": {},
   "outputs": [
    {
     "name": "stdout",
     "output_type": "stream",
     "text": [
      "La diferencia de elementos entre los valores únicos del array val_unicos y bino_unicos es: [0 8 9]\n"
     ]
    }
   ],
   "source": [
    "dif_val_bino=np.setdiff1d(val_unicos,bino_unicos)\n",
    "print(f\"La diferencia de elementos entre los valores únicos del array val_unicos y bino_unicos es: {dif_val_bino}\")"
   ]
  },
  {
   "cell_type": "markdown",
   "metadata": {},
   "source": [
    "EJERCICIO 4: Cread dos arrays usando el método random.randint de Numpy con 80 elementos cada uno con números del 1-100, con los siguientes nombres array1 y array2.\n",
    "- Extraed los valores únicos de cada uno de los arrays y los guardáis en variables en las que se les llame array1 y array2.\n",
    "- Identificad los elementos presentes en el array1 pero no en el array2 y asiganarlo a una variable que se llame array3.\n",
    "- Identificad los elementos presentes en el array2 pero no en el array1 y asiganarlo a una variable que se llame array4.\n",
    "- Identificad los elementos presentes en ambos arrays y asiganarlos a una variable que se llame array5.\n",
    "- ¿Cuál es la relación que existe entre todos estos arrays? 💡 Pista 💡 Tendréis que usar las longitudes de cada uno de los arrays creados."
   ]
  },
  {
   "cell_type": "code",
   "execution_count": 41,
   "metadata": {},
   "outputs": [
    {
     "data": {
      "text/plain": [
       "array([27, 98, 21, 30, 97, 28, 64, 97, 69, 61, 48, 19,  4, 35, 64, 49, 17,\n",
       "       44, 92, 30, 93, 46,  6, 99, 37, 24, 93, 46, 53, 95, 99, 60, 97, 63,\n",
       "       85, 32, 87, 33, 67, 18, 25, 95, 54, 58, 67, 46, 24, 32, 47, 86, 23,\n",
       "       66, 27,  2, 90, 17, 33,  9, 43, 48, 39, 93, 42, 26, 99, 50, 25, 24,\n",
       "       13, 60,  7, 57, 36, 45, 20, 65,  8, 16, 14, 76])"
      ]
     },
     "execution_count": 41,
     "metadata": {},
     "output_type": "execute_result"
    }
   ],
   "source": [
    "array1=np.random.randint (1,100,(80))\n",
    "array1"
   ]
  },
  {
   "cell_type": "code",
   "execution_count": 42,
   "metadata": {},
   "outputs": [
    {
     "data": {
      "text/plain": [
       "array([87, 15, 92, 98, 66, 32, 87, 63, 86, 51, 25, 58, 63, 62, 22, 58, 58,\n",
       "       86, 49, 52, 42, 70, 15, 54, 60, 97,  8, 53, 60,  5, 68,  6, 96, 94,\n",
       "       47, 99, 55, 40, 52, 16, 13, 30, 19, 17, 63, 19, 92, 58, 55, 90, 90,\n",
       "       62, 23,  9, 12,  1, 58,  1, 34, 96, 48, 89,  1, 16, 61, 64, 63, 69,\n",
       "       22, 93, 67, 76, 26, 16, 51, 86, 57, 29, 78, 92])"
      ]
     },
     "execution_count": 42,
     "metadata": {},
     "output_type": "execute_result"
    }
   ],
   "source": [
    "array2=np.random.randint (1,100,(80))\n",
    "array2"
   ]
  },
  {
   "cell_type": "code",
   "execution_count": 43,
   "metadata": {},
   "outputs": [
    {
     "data": {
      "text/plain": [
       "array([ 2,  4,  6,  7,  8,  9, 13, 14, 16, 17, 18, 19, 20, 21, 23, 24, 25,\n",
       "       26, 27, 28, 30, 32, 33, 35, 36, 37, 39, 42, 43, 44, 45, 46, 47, 48,\n",
       "       49, 50, 53, 54, 57, 58, 60, 61, 63, 64, 65, 66, 67, 69, 76, 85, 86,\n",
       "       87, 90, 92, 93, 95, 97, 98, 99])"
      ]
     },
     "execution_count": 43,
     "metadata": {},
     "output_type": "execute_result"
    }
   ],
   "source": [
    "array1=np.unique(array1)\n",
    "array1"
   ]
  },
  {
   "cell_type": "code",
   "execution_count": 44,
   "metadata": {},
   "outputs": [
    {
     "data": {
      "text/plain": [
       "array([ 1,  5,  6,  8,  9, 12, 13, 15, 16, 17, 19, 22, 23, 25, 26, 29, 30,\n",
       "       32, 34, 40, 42, 47, 48, 49, 51, 52, 53, 54, 55, 57, 58, 60, 61, 62,\n",
       "       63, 64, 66, 67, 68, 69, 70, 76, 78, 86, 87, 89, 90, 92, 93, 94, 96,\n",
       "       97, 98, 99])"
      ]
     },
     "execution_count": 44,
     "metadata": {},
     "output_type": "execute_result"
    }
   ],
   "source": [
    "array2=np.unique(array2)\n",
    "array2"
   ]
  },
  {
   "cell_type": "code",
   "execution_count": 45,
   "metadata": {},
   "outputs": [
    {
     "name": "stdout",
     "output_type": "stream",
     "text": [
      "Los valores que tenemos en el array1 y no en el array2 son: [ 2  4  7 14 18 20 21 24 27 28 33 35 36 37 39 43 44 45 46 50 65 85 95]\n"
     ]
    }
   ],
   "source": [
    "array3=np.setdiff1d(array1,array2)\n",
    "print(f\"Los valores que tenemos en el array1 y no en el array2 son: {array3}\")"
   ]
  },
  {
   "cell_type": "code",
   "execution_count": 46,
   "metadata": {},
   "outputs": [
    {
     "name": "stdout",
     "output_type": "stream",
     "text": [
      "Los valores que tenemos en el array2 y no en el array1 son: [ 1  5 12 15 22 29 34 40 51 52 55 62 68 70 78 89 94 96]\n"
     ]
    }
   ],
   "source": [
    "array4=np.setdiff1d(array2,array1)\n",
    "print(f\"Los valores que tenemos en el array2 y no en el array1 son: {array4}\")"
   ]
  },
  {
   "cell_type": "code",
   "execution_count": 52,
   "metadata": {},
   "outputs": [
    {
     "name": "stdout",
     "output_type": "stream",
     "text": [
      "La intersección del array1 y el array2 es:\n",
      "[ 6  8  9 13 16 17 19 23 25 26 30 32 42 47 48 49 53 54 57 58 60 61 63 64\n",
      " 66 67 69 76 86 87 90 92 93 97 98 99]\n"
     ]
    }
   ],
   "source": [
    "array5=np.intersect1d(array1,array2)\n",
    "print(f\"La intersección del array1 y el array2 es:\")\n",
    "print(array5)"
   ]
  },
  {
   "cell_type": "markdown",
   "metadata": {},
   "source": [
    "¿Cuál es la relación que existe entre todos estos arrays? 💡 Pista 💡 Tendréis que usar las longitudes de cada uno de los arrays creados."
   ]
  },
  {
   "cell_type": "code",
   "execution_count": null,
   "metadata": {},
   "outputs": [],
   "source": []
  }
 ],
 "metadata": {
  "kernelspec": {
   "display_name": "Python 3.9.7 ('base')",
   "language": "python",
   "name": "python3"
  },
  "language_info": {
   "codemirror_mode": {
    "name": "ipython",
    "version": 3
   },
   "file_extension": ".py",
   "mimetype": "text/x-python",
   "name": "python",
   "nbconvert_exporter": "python",
   "pygments_lexer": "ipython3",
   "version": "3.9.7"
  },
  "orig_nbformat": 4,
  "vscode": {
   "interpreter": {
    "hash": "c077ba4c986d0c674841b1bde68a642c04a6e440695030e9d779c08f2cbfb9f4"
   }
  }
 },
 "nbformat": 4,
 "nbformat_minor": 2
}
