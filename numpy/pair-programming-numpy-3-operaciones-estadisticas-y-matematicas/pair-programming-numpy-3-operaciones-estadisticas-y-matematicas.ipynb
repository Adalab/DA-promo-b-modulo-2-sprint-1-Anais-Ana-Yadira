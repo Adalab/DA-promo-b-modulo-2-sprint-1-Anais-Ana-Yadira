{
 "cells": [
  {
   "cell_type": "code",
   "execution_count": 173,
   "metadata": {},
   "outputs": [],
   "source": [
    "import numpy as np"
   ]
  },
  {
   "cell_type": "markdown",
   "metadata": {},
   "source": [
    "EJERCICIO 1: Cread un array de tres dimensiones de 2 matrices, 3 filas y 5 columnas cuyos valores solo tengan 1 decimales. Sobre el array creado anteriormente, extraed:"
   ]
  },
  {
   "cell_type": "code",
   "execution_count": 174,
   "metadata": {},
   "outputs": [
    {
     "data": {
      "text/plain": [
       "array([[[0.81866412, 0.2849072 , 0.08879425, 0.78707065, 0.41191061],\n",
       "        [0.62893865, 0.33902714, 0.98845751, 0.78523378, 0.29441076],\n",
       "        [0.48612705, 0.92302605, 0.00837976, 0.34190492, 0.44154843]],\n",
       "\n",
       "       [[0.51598591, 0.15035509, 0.08862013, 0.12175701, 0.04014771],\n",
       "        [0.38489456, 0.12334507, 0.99463808, 0.9876757 , 0.58023486],\n",
       "        [0.75191953, 0.74034108, 0.65941622, 0.83074743, 0.89334347]]])"
      ]
     },
     "execution_count": 174,
     "metadata": {},
     "output_type": "execute_result"
    }
   ],
   "source": [
    "array = np.random.rand(2,3,5)\n",
    "array"
   ]
  },
  {
   "cell_type": "code",
   "execution_count": 175,
   "metadata": {},
   "outputs": [
    {
     "data": {
      "text/plain": [
       "array([[[0.8, 0.3, 0.1, 0.8, 0.4],\n",
       "        [0.6, 0.3, 1. , 0.8, 0.3],\n",
       "        [0.5, 0.9, 0. , 0.3, 0.4]],\n",
       "\n",
       "       [[0.5, 0.2, 0.1, 0.1, 0. ],\n",
       "        [0.4, 0.1, 1. , 1. , 0.6],\n",
       "        [0.8, 0.7, 0.7, 0.8, 0.9]]])"
      ]
     },
     "execution_count": 175,
     "metadata": {},
     "output_type": "execute_result"
    }
   ],
   "source": [
    "array = np.round(array, decimals=1)\n",
    "array"
   ]
  },
  {
   "cell_type": "markdown",
   "metadata": {},
   "source": [
    "EJERCICIO 2: Calculad la media del array y almacenarlos en una variable. Redondead a un decimal."
   ]
  },
  {
   "cell_type": "code",
   "execution_count": 176,
   "metadata": {},
   "outputs": [
    {
     "data": {
      "text/plain": [
       "0.5"
      ]
     },
     "execution_count": 176,
     "metadata": {},
     "output_type": "execute_result"
    }
   ],
   "source": [
    "media = np.round(np.mean(array), decimals=1)\n",
    "media"
   ]
  },
  {
   "cell_type": "markdown",
   "metadata": {},
   "source": [
    "EJERCICIO 3: Calculad el valor máximo del array y almacenarlos en una variable. Redondead a un decimal."
   ]
  },
  {
   "cell_type": "code",
   "execution_count": 177,
   "metadata": {},
   "outputs": [
    {
     "data": {
      "text/plain": [
       "1.0"
      ]
     },
     "execution_count": 177,
     "metadata": {},
     "output_type": "execute_result"
    }
   ],
   "source": [
    "v_max= np.round(np.max(array), decimals=1)\n",
    "v_max"
   ]
  },
  {
   "cell_type": "markdown",
   "metadata": {},
   "source": [
    "EJERCICIO 4: Calculad el valor mínimo del array y almacenarlos en una variable. Redondead a un decimal."
   ]
  },
  {
   "cell_type": "code",
   "execution_count": 178,
   "metadata": {},
   "outputs": [
    {
     "data": {
      "text/plain": [
       "0.0"
      ]
     },
     "execution_count": 178,
     "metadata": {},
     "output_type": "execute_result"
    }
   ],
   "source": [
    "v_min= np.round(np.min(array), decimals=1)\n",
    "v_min"
   ]
  },
  {
   "cell_type": "markdown",
   "metadata": {},
   "source": [
    "EJERCICIO 5: Cread un array vacío con la misma forma y dimensiones que el array creado anteriormente.\n",
    "Vamos a reemplazar los valores de la matriz vacía que nos acabamos de crear pero basándonos en los valores del primer array bajo las siguientes condiciones:\n",
    "- Si el valor del array es igual que la media, se reemplaza por \"A\".\n",
    "- Si el valor del array es mayor que la media, se reemplaza por \"B\".\n",
    "- Si el valor del array es menor que la media, se reemplaza por \"C\".\n",
    "- Si el valor es igual que el máximo, se reemplaza por \"D\".\n",
    "- Si el valor es igual que el mínimo, se reemplaza por \"E\".\n",
    "\n",
    "💡 Pista 💡 Tendréis que iterar por el array y cambiar los valores de la matriz vacía. Para eso tendremos que usar distintos condicionales."
   ]
  },
  {
   "cell_type": "code",
   "execution_count": 179,
   "metadata": {},
   "outputs": [
    {
     "data": {
      "text/plain": [
       "array([[['', '', '', '', ''],\n",
       "        ['', '', '', '', ''],\n",
       "        ['', '', '', '', '']],\n",
       "\n",
       "       [['', '', '', '', ''],\n",
       "        ['', '', '', '', ''],\n",
       "        ['', '', '', '', '']]], dtype='<U1')"
      ]
     },
     "execution_count": 179,
     "metadata": {},
     "output_type": "execute_result"
    }
   ],
   "source": [
    "array_vacio = np.empty_like(array, str)\n",
    "array_vacio"
   ]
  },
  {
   "cell_type": "code",
   "execution_count": 180,
   "metadata": {},
   "outputs": [
    {
     "name": "stdout",
     "output_type": "stream",
     "text": [
      "[[['B' 'C' 'C' 'B' 'C']\n",
      "  ['B' 'C' 'D' 'B' 'C']\n",
      "  ['A' 'B' 'E' 'C' 'C']]\n",
      "\n",
      " [['A' 'C' 'C' 'C' 'E']\n",
      "  ['C' 'C' 'D' 'D' 'B']\n",
      "  ['B' 'B' 'B' 'B' 'B']]]\n"
     ]
    }
   ],
   "source": [
    "for m in range((array.shape)[0]):\n",
    "\n",
    "    for f in range((array.shape)[1]):\n",
    "\n",
    "        for c in range((array.shape)[2]):\n",
    "\n",
    "            if array[m][f][c] == v_max:\n",
    "                array_vacio[m][f][c] = \"D\"\n",
    "            \n",
    "            elif array[m][f][c] == v_min:\n",
    "                array_vacio[m][f][c] = \"E\"\n",
    "\n",
    "            elif array[m][f][c] == media:\n",
    "                array_vacio[m][f][c] = \"A\"\n",
    "\n",
    "            elif array[m][f][c] > media:\n",
    "                array_vacio[m][f][c] = \"B\"\n",
    "            \n",
    "            elif array[m][f][c] < media:\n",
    "                array_vacio[m][f][c] = \"C\"\n",
    "\n",
    "            \n",
    "            \n",
    "\n",
    "print(array_vacio)"
   ]
  },
  {
   "cell_type": "markdown",
   "metadata": {},
   "source": [
    "Estupendo, tenemos un array con strings. Ahora realizaremos un ejercicio similar al anterior, pero en este caso nos crearemos un array vacío unidimensional de 30 elementos. Al final de este ejercicio acabaremos teniendo un array de tres dimensiones con la misma forma que el primero que nos creamos.\n",
    "En este caso:\n",
    "Si el valor del array creado en el ejercicio anterior es \"A\" o \"B\" lo reemplazaremos por 1\n",
    "Si el valor del array creado en el ejercicio anterior es \"C\" o \"D\" lo reemplazaremos por 2\n",
    "Si el valor del array creado en el ejercicio anterior es \"E\" lo reemplazaremos por 3.\n",
    "Una vez que hayas reemplazado todos los valores cambiad la forma del array para que sea de tres dimensiones, con 2 matrices, 3 filas y 5 columnas."
   ]
  },
  {
   "cell_type": "code",
   "execution_count": 181,
   "metadata": {},
   "outputs": [
    {
     "data": {
      "text/plain": [
       "array(['B', 'C', 'C', 'B', 'C', 'B', 'C', 'D', 'B', 'C', 'A', 'B', 'E',\n",
       "       'C', 'C', 'A', 'C', 'C', 'C', 'E', 'C', 'C', 'D', 'D', 'B', 'B',\n",
       "       'B', 'B', 'B', 'B'], dtype='<U1')"
      ]
     },
     "execution_count": 181,
     "metadata": {},
     "output_type": "execute_result"
    }
   ],
   "source": [
    "array_vacio_1 = array_vacio.reshape(30,)\n",
    "array_vacio_1"
   ]
  },
  {
   "cell_type": "code",
   "execution_count": 182,
   "metadata": {},
   "outputs": [
    {
     "data": {
      "text/plain": [
       "array([0.8, 0.3, 0.1, 0.8, 0.4, 0.6, 0.3, 1. , 0.8, 0.3, 0.5, 0.9, 0. ,\n",
       "       0.3, 0.4, 0.5, 0.2, 0.1, 0.1, 0. , 0.4, 0.1, 1. , 1. , 0.6, 0.8,\n",
       "       0.7, 0.7, 0.8, 0.9])"
      ]
     },
     "execution_count": 182,
     "metadata": {},
     "output_type": "execute_result"
    }
   ],
   "source": [
    "array_uni_vacio = np.empty(30)\n",
    "array_uni_vacio"
   ]
  },
  {
   "cell_type": "code",
   "execution_count": 183,
   "metadata": {},
   "outputs": [
    {
     "name": "stdout",
     "output_type": "stream",
     "text": [
      "[1. 2. 2. 1. 2. 1. 2. 2. 1. 2. 1. 1. 3. 2. 2. 1. 2. 2. 2. 3. 2. 2. 2. 2.\n",
      " 1. 1. 1. 1. 1. 1.]\n"
     ]
    }
   ],
   "source": [
    "for m in range(30):\n",
    "\n",
    "\n",
    "    if (array_vacio_1[m] == \"A\") or (array_vacio_1[m] == \"B\"):\n",
    "        array_uni_vacio[m] = 1\n",
    "\n",
    "              \n",
    "    elif (array_vacio_1[m] == \"C\") or (array_vacio_1[m] == \"D\"):\n",
    "        array_uni_vacio[m] = 2\n",
    "\n",
    "    elif array_vacio_1[m] == \"E\":\n",
    "        array_uni_vacio[m] = 3\n",
    "          \n",
    "\n",
    "            \n",
    "            \n",
    "\n",
    "print(array_uni_vacio)"
   ]
  },
  {
   "cell_type": "code",
   "execution_count": 184,
   "metadata": {},
   "outputs": [
    {
     "data": {
      "text/plain": [
       "array([[[1., 2., 2., 1., 2.],\n",
       "        [1., 2., 2., 1., 2.],\n",
       "        [1., 1., 3., 2., 2.]],\n",
       "\n",
       "       [[1., 2., 2., 2., 3.],\n",
       "        [2., 2., 2., 2., 1.],\n",
       "        [1., 1., 1., 1., 1.]]])"
      ]
     },
     "execution_count": 184,
     "metadata": {},
     "output_type": "execute_result"
    }
   ],
   "source": [
    "array_numero = array_uni_vacio.reshape(2,3,5)\n",
    "array_numero"
   ]
  }
 ],
 "metadata": {
  "kernelspec": {
   "display_name": "Python 3.9.7 ('base')",
   "language": "python",
   "name": "python3"
  },
  "language_info": {
   "codemirror_mode": {
    "name": "ipython",
    "version": 3
   },
   "file_extension": ".py",
   "mimetype": "text/x-python",
   "name": "python",
   "nbconvert_exporter": "python",
   "pygments_lexer": "ipython3",
   "version": "3.9.7"
  },
  "orig_nbformat": 4,
  "vscode": {
   "interpreter": {
    "hash": "0620710c65b0f5ccc651a2aa8870ae0eb4c70492424a8d7866846658189426a3"
   }
  }
 },
 "nbformat": 4,
 "nbformat_minor": 2
}
