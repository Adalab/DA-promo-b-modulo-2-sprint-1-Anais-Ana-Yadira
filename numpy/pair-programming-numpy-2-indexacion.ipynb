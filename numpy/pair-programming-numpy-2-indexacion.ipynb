{
 "cells": [
  {
   "cell_type": "code",
   "execution_count": 2,
   "metadata": {},
   "outputs": [],
   "source": [
    "import numpy as np\n",
    "import pandas as pd"
   ]
  },
  {
   "cell_type": "markdown",
   "metadata": {},
   "source": [
    "EJERCICIO 1: Cread un array de dos dimensiones de 5 filas y 3 columnas. Sobre el array creado anteriormente, extraed:\n",
    "- El valor de la primera fila y la segunda columna.\n",
    "- Los valores de la segunda fila y las dos primeras columnas.\n",
    "- Extraed las filas pares (incluyendo la 0) y todas las columnas.\n",
    "- Extraed los valores que sean mayores que 0.5.\n",
    "- Extraed los valores menores que 0.2 o mayores que 0.5"
   ]
  },
  {
   "cell_type": "code",
   "execution_count": 19,
   "metadata": {},
   "outputs": [
    {
     "data": {
      "text/plain": [
       "array([[0.94719152, 0.84663356, 0.02866679],\n",
       "       [0.89954299, 0.90819148, 0.84979855],\n",
       "       [0.99164855, 0.67580663, 0.62413185],\n",
       "       [0.38159012, 0.6501976 , 0.70705876],\n",
       "       [0.53779576, 0.11273305, 0.84125957]])"
      ]
     },
     "execution_count": 19,
     "metadata": {},
     "output_type": "execute_result"
    }
   ],
   "source": [
    "array=np.random.rand(5,3)\n",
    "array"
   ]
  },
  {
   "cell_type": "code",
   "execution_count": 20,
   "metadata": {},
   "outputs": [
    {
     "name": "stdout",
     "output_type": "stream",
     "text": [
      "El valor de la primera fila y la segunda columna es: 0.8466335619265822\n"
     ]
    }
   ],
   "source": [
    "print(f\"El valor de la primera fila y la segunda columna es: {array[0,1]}\")\n"
   ]
  },
  {
   "cell_type": "code",
   "execution_count": 21,
   "metadata": {},
   "outputs": [
    {
     "name": "stdout",
     "output_type": "stream",
     "text": [
      "Los valores de la segunda fila y las dos primeras columnas es: [0.89954299 0.90819148]\n"
     ]
    }
   ],
   "source": [
    "print(f\"Los valores de la segunda fila y las dos primeras columnas es: {array[1,:2]}\")"
   ]
  },
  {
   "cell_type": "code",
   "execution_count": 22,
   "metadata": {},
   "outputs": [
    {
     "name": "stdout",
     "output_type": "stream",
     "text": [
      "Las filas pares (incluyendo la 0) y todas las columnas son:\n",
      "[[0.94719152 0.84663356 0.02866679]\n",
      " [0.99164855 0.67580663 0.62413185]\n",
      " [0.53779576 0.11273305 0.84125957]]\n"
     ]
    }
   ],
   "source": [
    "print(\"Las filas pares (incluyendo la 0) y todas las columnas son:\")\n",
    "print(array[::2,])"
   ]
  },
  {
   "cell_type": "code",
   "execution_count": 23,
   "metadata": {},
   "outputs": [
    {
     "name": "stdout",
     "output_type": "stream",
     "text": [
      "Extraed los valores que sean mayores que 0.5.\n",
      "[0.94719152 0.84663356 0.89954299 0.90819148 0.84979855 0.99164855\n",
      " 0.67580663 0.62413185 0.6501976  0.70705876 0.53779576 0.84125957]\n"
     ]
    }
   ],
   "source": [
    "print(\"Extraed los valores que sean mayores que 0.5.\")\n",
    "print(array[array>0.5])"
   ]
  },
  {
   "cell_type": "code",
   "execution_count": 24,
   "metadata": {},
   "outputs": [
    {
     "name": "stdout",
     "output_type": "stream",
     "text": [
      "Extraed los valores menores que 0.2 o mayores que 0.5\n",
      "[0.94719152 0.84663356 0.02866679 0.89954299 0.90819148 0.84979855\n",
      " 0.99164855 0.67580663 0.62413185 0.6501976  0.70705876 0.53779576\n",
      " 0.11273305 0.84125957]\n"
     ]
    }
   ],
   "source": [
    "print(\"Extraed los valores menores que 0.2 o mayores que 0.5\")\n",
    "print(array[(array<0.2)|(array>0.5)])"
   ]
  },
  {
   "cell_type": "markdown",
   "metadata": {},
   "source": [
    "EJERCICIO 2: Cread dos array de tres dimensiones:\n",
    "- El primero de 2 matrices, 5 filas y 3 columnas.\n",
    "- El segundo de 3 matrices, 2 filas y 5 columnas\n",
    "- Haced un análisis exploratorio de los array creados. Recordad que en el ejercicio de ayer nos creamos una función para esto.\n",
    "- Sumad los dos arrays. ¿Podéis? ¿Por qué?\n",
    "- Para cambiar la forma de un array y poder hacer operaciones entre arrays que tienen distintas formas hemos aprendido dos métodos:\n",
    "- .reshape()\n",
    "- .transpose()\n",
    "\n",
    "Utiliza estas dos funciones para cambiar la forma de los array y hacer operaciones entre ellos.\n"
   ]
  },
  {
   "cell_type": "code",
   "execution_count": 25,
   "metadata": {},
   "outputs": [],
   "source": [
    "array2=np.random.rand(2,5,3)\n",
    "array3=np.random.rand(3,2,5)"
   ]
  },
  {
   "cell_type": "code",
   "execution_count": 28,
   "metadata": {},
   "outputs": [],
   "source": [
    "def propiedades (array):\n",
    "    print(f\"La forma del array: {array.shape}\")\n",
    "    print(f\"El tamaño del array: {array.size}\")\n",
    "    print(f\"Las dimenciones del array: {array.ndim}\")\n",
    "    print(f\"El tipo de dato del array: {array.dtype}\")"
   ]
  },
  {
   "cell_type": "code",
   "execution_count": 29,
   "metadata": {},
   "outputs": [
    {
     "name": "stdout",
     "output_type": "stream",
     "text": [
      "La forma del array: (2, 5, 3)\n",
      "El tamaño del array: 30\n",
      "Las dimenciones del array: 3\n",
      "El tipo de dato del array: float64\n"
     ]
    }
   ],
   "source": [
    "propiedades(array2)"
   ]
  },
  {
   "cell_type": "code",
   "execution_count": 30,
   "metadata": {},
   "outputs": [
    {
     "name": "stdout",
     "output_type": "stream",
     "text": [
      "La forma del array: (3, 2, 5)\n",
      "El tamaño del array: 30\n",
      "Las dimenciones del array: 3\n",
      "El tipo de dato del array: float64\n"
     ]
    }
   ],
   "source": [
    "propiedades(array3)"
   ]
  },
  {
   "cell_type": "code",
   "execution_count": 31,
   "metadata": {},
   "outputs": [
    {
     "ename": "ValueError",
     "evalue": "operands could not be broadcast together with shapes (2,5,3) (3,2,5) ",
     "output_type": "error",
     "traceback": [
      "\u001b[0;31m---------------------------------------------------------------------------\u001b[0m",
      "\u001b[0;31mValueError\u001b[0m                                Traceback (most recent call last)",
      "\u001b[0;32m/tmp/ipykernel_17346/1799290291.py\u001b[0m in \u001b[0;36m<module>\u001b[0;34m\u001b[0m\n\u001b[0;32m----> 1\u001b[0;31m \u001b[0marray4\u001b[0m\u001b[0;34m=\u001b[0m\u001b[0mnp\u001b[0m\u001b[0;34m.\u001b[0m\u001b[0madd\u001b[0m\u001b[0;34m(\u001b[0m\u001b[0marray2\u001b[0m\u001b[0;34m,\u001b[0m\u001b[0marray3\u001b[0m\u001b[0;34m)\u001b[0m\u001b[0;34m\u001b[0m\u001b[0;34m\u001b[0m\u001b[0m\n\u001b[0m",
      "\u001b[0;31mValueError\u001b[0m: operands could not be broadcast together with shapes (2,5,3) (3,2,5) "
     ]
    }
   ],
   "source": [
    "array4=np.add(array2,array3)"
   ]
  },
  {
   "cell_type": "markdown",
   "metadata": {},
   "source": [
    "R= No se pueden sumar porque tienen diferentes formas."
   ]
  },
  {
   "cell_type": "code",
   "execution_count": 45,
   "metadata": {},
   "outputs": [],
   "source": [
    "#Aqui se cambian los ejes del array2 para poder sumarlo con el array3\n",
    "array_transpose=np.transpose(array2,(2,0,1))"
   ]
  },
  {
   "cell_type": "code",
   "execution_count": 52,
   "metadata": {},
   "outputs": [],
   "source": [
    "#Se hace la suma\n",
    "suma_transpose=np.add(array_transpose,array3)"
   ]
  },
  {
   "cell_type": "code",
   "execution_count": 53,
   "metadata": {},
   "outputs": [
    {
     "data": {
      "text/plain": [
       "array([[[0.85851503, 1.03130774, 0.73405326, 1.03871795, 0.33623682],\n",
       "        [1.14267751, 0.71578134, 0.77696584, 0.43975998, 1.74608719]],\n",
       "\n",
       "       [[1.52474223, 1.47590816, 1.64410313, 1.42724676, 0.801078  ],\n",
       "        [1.74252475, 0.04100637, 0.60138682, 0.98161608, 0.4120136 ]],\n",
       "\n",
       "       [[0.87355819, 0.98832167, 0.69797231, 0.94252069, 1.01393861],\n",
       "        [1.1593956 , 0.94923708, 0.69139289, 0.90154723, 1.06433301]]])"
      ]
     },
     "execution_count": 53,
     "metadata": {},
     "output_type": "execute_result"
    }
   ],
   "source": [
    "#El resultado\n",
    "suma_transpose"
   ]
  },
  {
   "cell_type": "code",
   "execution_count": 54,
   "metadata": {},
   "outputs": [],
   "source": [
    "#Aqui se cambian la forma del array2 para poder sumarlo con el array3\n",
    "array_reshape=np.reshape(array2,(3,2,5))"
   ]
  },
  {
   "cell_type": "code",
   "execution_count": 55,
   "metadata": {},
   "outputs": [],
   "source": [
    "#Se hace la suma\n",
    "suma_reshape=np.add(array_reshape,array3)"
   ]
  },
  {
   "cell_type": "code",
   "execution_count": 56,
   "metadata": {},
   "outputs": [
    {
     "data": {
      "text/plain": [
       "array([[[0.85851503, 1.43692928, 1.01379402, 0.86722668, 1.2038332 ],\n",
       "        [1.36332293, 0.21960109, 1.14504627, 0.5332184 , 1.58708474]],\n",
       "\n",
       "       [[1.08650923, 0.89928252, 0.73227207, 1.42941485, 0.44018355],\n",
       "        [1.67750199, 0.74322567, 0.34746596, 1.61640497, 0.43935218]],\n",
       "\n",
       "       [[0.57025727, 0.71428742, 0.72884473, 1.15901332, 1.28446163],\n",
       "        [0.94505389, 1.63716181, 0.94305486, 0.06729331, 1.06433301]]])"
      ]
     },
     "execution_count": 56,
     "metadata": {},
     "output_type": "execute_result"
    }
   ],
   "source": [
    "#El resultado\n",
    "suma_reshape"
   ]
  }
 ],
 "metadata": {
  "kernelspec": {
   "display_name": "Python 3.9.7 ('base')",
   "language": "python",
   "name": "python3"
  },
  "language_info": {
   "codemirror_mode": {
    "name": "ipython",
    "version": 3
   },
   "file_extension": ".py",
   "mimetype": "text/x-python",
   "name": "python",
   "nbconvert_exporter": "python",
   "pygments_lexer": "ipython3",
   "version": "3.9.7"
  },
  "orig_nbformat": 4,
  "vscode": {
   "interpreter": {
    "hash": "c077ba4c986d0c674841b1bde68a642c04a6e440695030e9d779c08f2cbfb9f4"
   }
  }
 },
 "nbformat": 4,
 "nbformat_minor": 2
}
