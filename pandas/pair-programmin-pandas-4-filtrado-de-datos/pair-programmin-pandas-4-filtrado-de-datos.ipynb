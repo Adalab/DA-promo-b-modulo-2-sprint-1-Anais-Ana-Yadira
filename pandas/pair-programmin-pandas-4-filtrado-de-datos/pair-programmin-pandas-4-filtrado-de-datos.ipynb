{
 "cells": [
  {
   "cell_type": "code",
   "execution_count": 1,
   "metadata": {},
   "outputs": [],
   "source": [
    "import pandas as pd"
   ]
  },
  {
   "cell_type": "markdown",
   "metadata": {},
   "source": [
    "EJERCICIO 1: Cargad el csv que guardasteis ayer.\n",
    "\n",
    "Antes de seguir con las preguntas, este DataFrame está terriblemente sucio. En las próximas sesiones lo iremos limpiando. Para evitar posibles errores con los nulos vamos a eliminar todos los nulos del DataFrame.\n",
    "\n",
    "Para ello vamos a utilizar el método .dropna() de pandas. Tendréis que ejecutar la siguiente línea de código para eliminar los nulos del DataFrame y poder seguir haciendo el resto de los ejercicios.\n",
    "\n",
    "df.dropna(inplace = True)\n",
    "\n",
    "¿Cuántas filas se han eliminado con esta línea de código?\n"
   ]
  },
  {
   "cell_type": "markdown",
   "metadata": {},
   "source": [
    "EJERCICIO 2: ¿Cuál es el número de ataques que se han producido en Estados Unidos?"
   ]
  },
  {
   "cell_type": "markdown",
   "metadata": {},
   "source": [
    "EJERCICIO 3: ¿Y en España?\n",
    "- 3.1 ¿En qué regiones se han producido los ataques?\n",
    "- 3.2 ¿Cuántos ataques se han producido en cada área?"
   ]
  },
  {
   "cell_type": "markdown",
   "metadata": {},
   "source": [
    "EJERCICIO 4: Extraed un DataFrame nuevo con los ataques que se han producido en Australia y Estados Unidos. 📌 Nota Este ejercicio se puede resolver usando dos condiciones de filtrado o usando el método isin(). Hacedlo con ambas herramientas.\n",
    "- 4.1 ¿Cuántos ataques se han producido en cada país?\n",
    "- 4.2 ¿Ha habido ataques en Australia a gente que estuviera remando (lo encontrareis como Paddling en el DataFrame en la columna activity)?\n",
    "- 4.3 ¿Cuántos ataques se han producido en Australia antes del 2000?\n",
    "- 4.4 ¿Y después del 2000?"
   ]
  },
  {
   "cell_type": "markdown",
   "metadata": {},
   "source": [
    "EJERCICIO 5: Extraed unicamente los ataques a mujeres."
   ]
  },
  {
   "cell_type": "markdown",
   "metadata": {},
   "source": [
    "EJERCICIO 6: ¿Cuántas mujeres fueron atacadas en España?"
   ]
  },
  {
   "cell_type": "markdown",
   "metadata": {},
   "source": [
    "EJERCICIO 7: Extraed los ataques que se hayan producido en el año 2000, 1997 y 2006. Utilizad el método isin() para resolver este ejercicio."
   ]
  },
  {
   "cell_type": "markdown",
   "metadata": {},
   "source": [
    "EJERCICIO 8: Si extraemos los valores únicos de la columna species nos podemos dar cuenta que está un poco sucia y extraer informacion útil de la misma se puede convertir en algo difícil. En este ejercicio tendréis que extraer los ataques que han ocurrido por tiburón blanco (lo encontraremos en la columna species como algo que contenga white o White). Usad el método str.contains() para resolver este ejercicio."
   ]
  },
  {
   "cell_type": "markdown",
   "metadata": {},
   "source": [
    "EJERCICIO 9: Extraed ahora los ataques por tiburón blanco o tigre. Utilizad el método str.contains() para resolver este ejercicio."
   ]
  },
  {
   "cell_type": "markdown",
   "metadata": {},
   "source": [
    "EJERCICIO 10: Utilizando la columna de year cread una nueva columna llamada siglo que tiene siglo-XX o siglo-XXI. Donde el año sea menor que 2000 pondremos siglo-XX y el resto de los años siglo-XXI."
   ]
  },
  {
   "cell_type": "markdown",
   "metadata": {},
   "source": [
    "EJERCICIO 11: Guardad como un archivo csv nuevo. Lo usaremos en el pair programming de mañana."
   ]
  }
 ],
 "metadata": {
  "kernelspec": {
   "display_name": "Python 3.9.7 ('base')",
   "language": "python",
   "name": "python3"
  },
  "language_info": {
   "codemirror_mode": {
    "name": "ipython",
    "version": 3
   },
   "file_extension": ".py",
   "mimetype": "text/x-python",
   "name": "python",
   "nbconvert_exporter": "python",
   "pygments_lexer": "ipython3",
   "version": "3.9.7"
  },
  "orig_nbformat": 4,
  "vscode": {
   "interpreter": {
    "hash": "c077ba4c986d0c674841b1bde68a642c04a6e440695030e9d779c08f2cbfb9f4"
   }
  }
 },
 "nbformat": 4,
 "nbformat_minor": 2
}
