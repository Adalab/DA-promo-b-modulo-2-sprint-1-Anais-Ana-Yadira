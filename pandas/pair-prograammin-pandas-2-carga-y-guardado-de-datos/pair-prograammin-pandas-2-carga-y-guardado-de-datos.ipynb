{
 "cells": [
  {
   "cell_type": "code",
   "execution_count": 1,
   "metadata": {},
   "outputs": [],
   "source": [
    "import pandas as pd"
   ]
  },
  {
   "cell_type": "markdown",
   "metadata": {},
   "source": [
    "Los objetivos de este pair programming:\n",
    "- Id cargando todos los ficheros en vuestro jupyter.\n",
    "    - Si os da error leer el pickle será por la versión de pandas. Podéis guardar el csv como pickle y cargarlo de ahí.\n",
    "\n",
    "- Para poner el práctica el read_clipboard elegir alguna tabla que os podaís encontrar en google y usad dicho método para traer los datos al jupyter notebook. Una vez que los hayáis cargado, guardad esos datos en los siguientes formatos:\n",
    "    - csv\n",
    "    - excel\n",
    "    - json\n",
    "    - pickle"
   ]
  }
 ],
 "metadata": {
  "kernelspec": {
   "display_name": "Python 3.9.7 ('base')",
   "language": "python",
   "name": "python3"
  },
  "language_info": {
   "codemirror_mode": {
    "name": "ipython",
    "version": 3
   },
   "file_extension": ".py",
   "mimetype": "text/x-python",
   "name": "python",
   "nbconvert_exporter": "python",
   "pygments_lexer": "ipython3",
   "version": "3.9.7"
  },
  "orig_nbformat": 4,
  "vscode": {
   "interpreter": {
    "hash": "c077ba4c986d0c674841b1bde68a642c04a6e440695030e9d779c08f2cbfb9f4"
   }
  }
 },
 "nbformat": 4,
 "nbformat_minor": 2
}
