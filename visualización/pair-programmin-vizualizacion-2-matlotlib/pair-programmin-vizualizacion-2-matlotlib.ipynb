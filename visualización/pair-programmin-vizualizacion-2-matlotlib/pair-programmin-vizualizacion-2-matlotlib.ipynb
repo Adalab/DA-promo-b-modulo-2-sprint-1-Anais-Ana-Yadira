{
 "cells": [
  {
   "cell_type": "code",
   "execution_count": 1,
   "metadata": {},
   "outputs": [],
   "source": [
    "import matplotlib.pyplot as plt\n",
    "import numpy as np\n",
    "import pandas as pd"
   ]
  },
  {
   "cell_type": "markdown",
   "metadata": {},
   "source": [
    "El objetivo de hoy, mejorar algunas de las gráficas que hicimos en el ejericio de pair programming de ayer y crear algunas nuevas aprovechando que tenemos algunas columnas nuevas en dataframe"
   ]
  },
  {
   "cell_type": "markdown",
   "metadata": {},
   "source": [
    "EJERCICIO 1: Ayer creamos un par de gráficas para USA y España, donde visualizamos el número de ataques en cada país a lo largo de los años y el tipo de los ataques. Hoy tendréis que hacer dos gráficas con subplots:\n",
    "\n",
    "- En la primera debéis mostrar los tipos ataques en USA y España, cada subplot corresponderá a un país. Debéis:\n",
    "- Poner nombre a los ejes de cada uno de los subplots\n",
    "- Poner un títulos a cada uno de los subplots\n",
    "- Poner el color de las líneas en negro.\n",
    "- Establecer el tamaño de la gráfica a 15 x 5\n",
    "- Ponerle marcadores a las gráficas\n",
    "- No incluir leyenda\n",
    "\n",
    "En la segunda debéis mostrar los ataques por año para cada uno de los países.\n",
    "- De nuevo tendréis que ponerle nombre a los ejes y título a cada gráfica.\n",
    "- En este caso el subplot deberá tener dos filas y una columna\n",
    "- No incluir leyenda\n",
    "- Cambiar el color de las barras"
   ]
  },
  {
   "cell_type": "markdown",
   "metadata": {},
   "source": [
    "EJERCICIO 2: Cread un único gráfico donde juntéis las gráficas de los tipos de ataques en una sola. Debéis:\n",
    "- Poner leyenda a la gráfica\n",
    "- Cada línea debe ir en un color\n",
    "- Ponerle nombre a los ejes y a la gráfica.\n",
    "- Poner marcadores a las lineas."
   ]
  },
  {
   "cell_type": "markdown",
   "metadata": {},
   "source": [
    "EJERCICIO 3: Guardad las figuras creadas en cada caso. Podéis usar el formato que queráis. Guarda todas las fotos en una carpeta llamada Visualizacion-II."
   ]
  }
 ],
 "metadata": {
  "kernelspec": {
   "display_name": "Python 3.9.7 ('base')",
   "language": "python",
   "name": "python3"
  },
  "language_info": {
   "codemirror_mode": {
    "name": "ipython",
    "version": 3
   },
   "file_extension": ".py",
   "mimetype": "text/x-python",
   "name": "python",
   "nbconvert_exporter": "python",
   "pygments_lexer": "ipython3",
   "version": "3.9.7"
  },
  "orig_nbformat": 4,
  "vscode": {
   "interpreter": {
    "hash": "c077ba4c986d0c674841b1bde68a642c04a6e440695030e9d779c08f2cbfb9f4"
   }
  }
 },
 "nbformat": 4,
 "nbformat_minor": 2
}
