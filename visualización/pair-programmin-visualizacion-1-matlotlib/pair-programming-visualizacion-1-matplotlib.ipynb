{
 "cells": [
  {
   "cell_type": "code",
   "execution_count": 1,
   "metadata": {},
   "outputs": [],
   "source": [
    "import matplotlib.pyplot as plt\n",
    "import numpy as np\n",
    "import pandas as pd"
   ]
  },
  {
   "cell_type": "code",
   "execution_count": 2,
   "metadata": {},
   "outputs": [],
   "source": [
    "df = pd.read_csv(\"attack_pair.csv\")"
   ]
  },
  {
   "cell_type": "code",
   "execution_count": 3,
   "metadata": {},
   "outputs": [
    {
     "data": {
      "text/html": [
       "<div>\n",
       "<style scoped>\n",
       "    .dataframe tbody tr th:only-of-type {\n",
       "        vertical-align: middle;\n",
       "    }\n",
       "\n",
       "    .dataframe tbody tr th {\n",
       "        vertical-align: top;\n",
       "    }\n",
       "\n",
       "    .dataframe thead th {\n",
       "        text-align: right;\n",
       "    }\n",
       "</style>\n",
       "<table border=\"1\" class=\"dataframe\">\n",
       "  <thead>\n",
       "    <tr style=\"text-align: right;\">\n",
       "      <th></th>\n",
       "      <th>case_number</th>\n",
       "      <th>unnamed:_0</th>\n",
       "      <th>year</th>\n",
       "      <th>type</th>\n",
       "      <th>country</th>\n",
       "      <th>area</th>\n",
       "      <th>location</th>\n",
       "      <th>activity</th>\n",
       "      <th>name</th>\n",
       "      <th>sex_</th>\n",
       "      <th>age</th>\n",
       "      <th>time</th>\n",
       "      <th>species_</th>\n",
       "      <th>href</th>\n",
       "    </tr>\n",
       "  </thead>\n",
       "  <tbody>\n",
       "    <tr>\n",
       "      <th>0</th>\n",
       "      <td>2018.06.25</td>\n",
       "      <td>0</td>\n",
       "      <td>2018.0</td>\n",
       "      <td>Boating</td>\n",
       "      <td>USA</td>\n",
       "      <td>California</td>\n",
       "      <td>Oceanside, San Diego County</td>\n",
       "      <td>Paddling</td>\n",
       "      <td>Julie Wolfe</td>\n",
       "      <td>F</td>\n",
       "      <td>57</td>\n",
       "      <td>18h00</td>\n",
       "      <td>White shark</td>\n",
       "      <td>http://sharkattackfile.net/spreadsheets/pdf_di...</td>\n",
       "    </tr>\n",
       "    <tr>\n",
       "      <th>1</th>\n",
       "      <td>2018.06.18</td>\n",
       "      <td>1</td>\n",
       "      <td>2018.0</td>\n",
       "      <td>Unprovoked</td>\n",
       "      <td>USA</td>\n",
       "      <td>Georgia</td>\n",
       "      <td>St. Simon Island, Glynn County</td>\n",
       "      <td>Standing</td>\n",
       "      <td>Adyson McNeely</td>\n",
       "      <td>F</td>\n",
       "      <td>11</td>\n",
       "      <td>14h00  -15h00</td>\n",
       "      <td>NaN</td>\n",
       "      <td>http://sharkattackfile.net/spreadsheets/pdf_di...</td>\n",
       "    </tr>\n",
       "    <tr>\n",
       "      <th>2</th>\n",
       "      <td>2018.06.09</td>\n",
       "      <td>2</td>\n",
       "      <td>2018.0</td>\n",
       "      <td>Invalid</td>\n",
       "      <td>USA</td>\n",
       "      <td>Hawaii</td>\n",
       "      <td>Habush, Oahu</td>\n",
       "      <td>Surfing</td>\n",
       "      <td>John Denges</td>\n",
       "      <td>M</td>\n",
       "      <td>48</td>\n",
       "      <td>07h45</td>\n",
       "      <td>NaN</td>\n",
       "      <td>http://sharkattackfile.net/spreadsheets/pdf_di...</td>\n",
       "    </tr>\n",
       "    <tr>\n",
       "      <th>3</th>\n",
       "      <td>2018.06.08</td>\n",
       "      <td>3</td>\n",
       "      <td>2018.0</td>\n",
       "      <td>Unprovoked</td>\n",
       "      <td>AUSTRALIA</td>\n",
       "      <td>New South Wales</td>\n",
       "      <td>Arrawarra Headland</td>\n",
       "      <td>Surfing</td>\n",
       "      <td>male</td>\n",
       "      <td>M</td>\n",
       "      <td>NaN</td>\n",
       "      <td>NaN</td>\n",
       "      <td>2 m shark</td>\n",
       "      <td>http://sharkattackfile.net/spreadsheets/pdf_di...</td>\n",
       "    </tr>\n",
       "    <tr>\n",
       "      <th>4</th>\n",
       "      <td>2018.06.04</td>\n",
       "      <td>4</td>\n",
       "      <td>2018.0</td>\n",
       "      <td>Provoked</td>\n",
       "      <td>MEXICO</td>\n",
       "      <td>Colima</td>\n",
       "      <td>La Ticla</td>\n",
       "      <td>Free diving</td>\n",
       "      <td>Gustavo Ramos</td>\n",
       "      <td>M</td>\n",
       "      <td>NaN</td>\n",
       "      <td>NaN</td>\n",
       "      <td>Tiger shark, 3m</td>\n",
       "      <td>http://sharkattackfile.net/spreadsheets/pdf_di...</td>\n",
       "    </tr>\n",
       "  </tbody>\n",
       "</table>\n",
       "</div>"
      ],
      "text/plain": [
       "  case_number  unnamed:_0    year        type    country             area  \\\n",
       "0  2018.06.25           0  2018.0     Boating        USA       California   \n",
       "1  2018.06.18           1  2018.0  Unprovoked        USA          Georgia   \n",
       "2  2018.06.09           2  2018.0     Invalid        USA           Hawaii   \n",
       "3  2018.06.08           3  2018.0  Unprovoked  AUSTRALIA  New South Wales   \n",
       "4  2018.06.04           4  2018.0    Provoked     MEXICO           Colima   \n",
       "\n",
       "                         location     activity             name sex_  age  \\\n",
       "0     Oceanside, San Diego County     Paddling      Julie Wolfe    F   57   \n",
       "1  St. Simon Island, Glynn County     Standing  Adyson McNeely     F   11   \n",
       "2                    Habush, Oahu      Surfing      John Denges    M   48   \n",
       "3              Arrawarra Headland      Surfing             male    M  NaN   \n",
       "4                        La Ticla  Free diving   Gustavo Ramos     M  NaN   \n",
       "\n",
       "            time         species_  \\\n",
       "0          18h00      White shark   \n",
       "1  14h00  -15h00              NaN   \n",
       "2          07h45              NaN   \n",
       "3            NaN        2 m shark   \n",
       "4            NaN  Tiger shark, 3m   \n",
       "\n",
       "                                                href  \n",
       "0  http://sharkattackfile.net/spreadsheets/pdf_di...  \n",
       "1  http://sharkattackfile.net/spreadsheets/pdf_di...  \n",
       "2  http://sharkattackfile.net/spreadsheets/pdf_di...  \n",
       "3  http://sharkattackfile.net/spreadsheets/pdf_di...  \n",
       "4  http://sharkattackfile.net/spreadsheets/pdf_di...  "
      ]
     },
     "execution_count": 3,
     "metadata": {},
     "output_type": "execute_result"
    }
   ],
   "source": [
    "df.head()"
   ]
  },
  {
   "cell_type": "markdown",
   "metadata": {},
   "source": [
    "1.\n",
    "¿Cuál es la frecuencia de cada una de las categorías de la columna sex?"
   ]
  },
  {
   "cell_type": "code",
   "execution_count": 3,
   "metadata": {},
   "outputs": [
    {
     "data": {
      "text/plain": [
       "M      4939\n",
       "F       619\n",
       "M         2\n",
       "N         2\n",
       "lli       1\n",
       ".         1\n",
       "Name: sex_, dtype: int64"
      ]
     },
     "execution_count": 3,
     "metadata": {},
     "output_type": "execute_result"
    }
   ],
   "source": [
    "sex= df[\"sex_\"].value_counts()\n",
    "sex"
   ]
  },
  {
   "cell_type": "code",
   "execution_count": 38,
   "metadata": {},
   "outputs": [
    {
     "data": {
      "text/plain": [
       "6"
      ]
     },
     "execution_count": 38,
     "metadata": {},
     "output_type": "execute_result"
    }
   ],
   "source": [
    "sex.size"
   ]
  },
  {
   "cell_type": "code",
   "execution_count": null,
   "metadata": {},
   "outputs": [
    {
     "data": {
      "text/plain": [
       "<BarContainer object of 6 artists>"
      ]
     },
     "execution_count": 8,
     "metadata": {},
     "output_type": "execute_result"
    },
    {
     "data": {
      "image/png": "[encoded data removed]",
      "text/plain": [
       "<Figure size 432x288 with 1 Axes>"
      ]
     },
     "metadata": {
      "needs_background": "light"
     },
     "output_type": "display_data"
    }
   ],
   "source": [
    "plt.figure()\n",
    "x = sex.index\n",
    "y = sex\n",
    "plt.bar(x,y)"
   ]
  },
  {
   "cell_type": "code",
   "execution_count": 6,
   "metadata": {},
   "outputs": [
    {
     "data": {
      "text/plain": [
       "array(['F', 'M', nan, 'M ', 'lli', 'N', '.'], dtype=object)"
      ]
     },
     "execution_count": 6,
     "metadata": {},
     "output_type": "execute_result"
    }
   ],
   "source": [
    "x = df[\"sex_\"].unique()\n",
    "x"
   ]
  },
  {
   "cell_type": "code",
   "execution_count": null,
   "metadata": {},
   "outputs": [],
   "source": [
    "x = df[\"sex_\"].unique() #PENDIENTE BUSCAR SOLUCIÓN CON HISTOGRAMA\n",
    "plt.hist(x= x)\n",
    "plt.show()"
   ]
  },
  {
   "cell_type": "markdown",
   "metadata": {},
   "source": [
    "EJERCICIO 2: ¿Cuál es el porcentaje de nulos por columna? Usa un pie chart donde incluyáis el porcentaje de cada variable en el interior del quesito. Para eso tendréis que usar el parámetro autopct, aquí algo de documentación."
   ]
  },
  {
   "cell_type": "code",
   "execution_count": 8,
   "metadata": {},
   "outputs": [
    {
     "data": {
      "text/plain": [
       "case_number       1\n",
       "unnamed:_0        0\n",
       "year              0\n",
       "type              4\n",
       "country          40\n",
       "area            408\n",
       "location        488\n",
       "activity        511\n",
       "name            200\n",
       "sex_            550\n",
       "age            2666\n",
       "time           3180\n",
       "species_       2705\n",
       "href              0\n",
       "dtype: int64"
      ]
     },
     "execution_count": 8,
     "metadata": {},
     "output_type": "execute_result"
    }
   ],
   "source": [
    "nulos= df.isnull().sum()\n",
    "nulos"
   ]
  },
  {
   "cell_type": "code",
   "execution_count": 9,
   "metadata": {},
   "outputs": [
    {
     "name": "stdout",
     "output_type": "stream",
     "text": [
      "case_number     0\n",
      "unnamed:_0      0\n",
      "year            0\n",
      "type            0\n",
      "country         0\n",
      "area            6\n",
      "location        7\n",
      "activity        8\n",
      "name            3\n",
      "sex_            8\n",
      "age            43\n",
      "time           52\n",
      "species_       44\n",
      "href            0\n",
      "dtype: int64\n"
     ]
    }
   ],
   "source": [
    "for i in range(nulos.size):\n",
    "    nulos [i] = nulos [i]*100/6114\n",
    "print(nulos)"
   ]
  },
  {
   "cell_type": "code",
   "execution_count": 10,
   "metadata": {},
   "outputs": [
    {
     "data": {
      "image/png": "[encoded data removed]",
      "text/plain": [
       "<Figure size 432x288 with 1 Axes>"
      ]
     },
     "metadata": {},
     "output_type": "display_data"
    }
   ],
   "source": [
    "plt.figure()\n",
    "plt.pie(nulos.values,labels=nulos.index,autopct='%1.2f%%')\n",
    "plt.show()"
   ]
  },
  {
   "cell_type": "markdown",
   "metadata": {},
   "source": [
    "3.\n",
    "¿Cuál es el número total de valores únicos de cada una de las columnas categóricas del DataFrame?"
   ]
  },
  {
   "cell_type": "code",
   "execution_count": 55,
   "metadata": {},
   "outputs": [
    {
     "name": "stdout",
     "output_type": "stream",
     "text": [
      "<class 'pandas.core.frame.DataFrame'>\n",
      "RangeIndex: 6114 entries, 0 to 6113\n",
      "Data columns (total 14 columns):\n",
      " #   Column       Non-Null Count  Dtype  \n",
      "---  ------       --------------  -----  \n",
      " 0   case_number  6113 non-null   object \n",
      " 1   unnamed:_0   6114 non-null   int64  \n",
      " 2   year         6114 non-null   float64\n",
      " 3   type         6110 non-null   object \n",
      " 4   country      6074 non-null   object \n",
      " 5   area         5706 non-null   object \n",
      " 6   location     5626 non-null   object \n",
      " 7   activity     5603 non-null   object \n",
      " 8   name         5914 non-null   object \n",
      " 9   sex_         5564 non-null   object \n",
      " 10  age          3448 non-null   object \n",
      " 11  time         2934 non-null   object \n",
      " 12  species_     3409 non-null   object \n",
      " 13  href         6114 non-null   object \n",
      "dtypes: float64(1), int64(1), object(12)\n",
      "memory usage: 668.8+ KB\n"
     ]
    }
   ],
   "source": [
    "df.info()"
   ]
  },
  {
   "cell_type": "code",
   "execution_count": 68,
   "metadata": {},
   "outputs": [],
   "source": [
    "df_copia=df.copy()\n",
    "df_elim=df_copia.drop([\"unnamed:_0\",\"year\"],axis=1)"
   ]
  },
  {
   "cell_type": "code",
   "execution_count": 69,
   "metadata": {},
   "outputs": [
    {
     "data": {
      "text/plain": [
       "{'case_number': 6114,\n",
       " 'type': 9,\n",
       " 'country': 202,\n",
       " 'area': 792,\n",
       " 'location': 4021,\n",
       " 'activity': 1485,\n",
       " 'name': 5119,\n",
       " 'sex_': 7,\n",
       " 'age': 157,\n",
       " 'time': 367,\n",
       " 'species_': 1530,\n",
       " 'href': 6099}"
      ]
     },
     "execution_count": 69,
     "metadata": {},
     "output_type": "execute_result"
    }
   ],
   "source": [
    "dicc={}\n",
    "for i in df_elim:\n",
    "    unicos=df[i].unique().size\n",
    "    dicc.update({i:unicos})\n",
    "dicc    "
   ]
  },
  {
   "cell_type": "code",
   "execution_count": 67,
   "metadata": {},
   "outputs": [
    {
     "data": {
      "image/png": "[encoded data removed]",
      "text/plain": [
       "<Figure size 432x288 with 1 Axes>"
      ]
     },
     "metadata": {
      "needs_background": "light"
     },
     "output_type": "display_data"
    }
   ],
   "source": [
    "plt.figure()\n",
    "x=dicc.keys()\n",
    "y=dicc.values()\n",
    "plt.bar(x,y)\n",
    "plt.show()"
   ]
  },
  {
   "cell_type": "markdown",
   "metadata": {},
   "source": [
    "4.\n",
    "Filtrad los datos para quedarnos solo con los datos de USA.\n",
    "\n",
    "¿Cuántos ataques de tiburones hubo en USA a lo largo del tiempo? Muestra solo los que hayan ocurrido del 2000 en adelante.\n",
    "\n",
    "En función del tipo, ¿cuántos ataques de tiburones de cada tipo hubo en USA? Muestra los resultados en un gráfico de línea."
   ]
  },
  {
   "cell_type": "code",
   "execution_count": 53,
   "metadata": {},
   "outputs": [
    {
     "data": {
      "image/png": "[encoded data removed]",
      "text/plain": [
       "<Figure size 432x288 with 1 Axes>"
      ]
     },
     "metadata": {
      "needs_background": "light"
     },
     "output_type": "display_data"
    }
   ],
   "source": []
  },
  {
   "cell_type": "markdown",
   "metadata": {},
   "source": [
    "5.\n",
    "Filtrad los datos para Spain:\n",
    "\n",
    "¿Cuántos ataques de tiburones hubo en España a lo largo del tiempo? Muestra solo los que hayan ocurrido del 2000 en adelante.\n",
    "\n",
    "En función del tipo, ¿cuántos ataques de cada tipo de tiburones hubo en España? Muestra los resultados en un gráfico de línea."
   ]
  },
  {
   "cell_type": "code",
   "execution_count": null,
   "metadata": {},
   "outputs": [],
   "source": []
  }
 ],
 "metadata": {
  "kernelspec": {
   "display_name": "Python 3.9.7 ('base')",
   "language": "python",
   "name": "python3"
  },
  "language_info": {
   "codemirror_mode": {
    "name": "ipython",
    "version": 3
   },
   "file_extension": ".py",
   "mimetype": "text/x-python",
   "name": "python",
   "nbconvert_exporter": "python",
   "pygments_lexer": "ipython3",
   "version": "3.9.7"
  },
  "orig_nbformat": 4,
  "vscode": {
   "interpreter": {
    "hash": "c077ba4c986d0c674841b1bde68a642c04a6e440695030e9d779c08f2cbfb9f4"
   }
  }
 },
 "nbformat": 4,
 "nbformat_minor": 2
}
